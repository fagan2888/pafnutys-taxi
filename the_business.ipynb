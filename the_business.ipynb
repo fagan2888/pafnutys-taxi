{
 "cells": [
  {
   "cell_type": "code",
   "execution_count": 15,
   "metadata": {
    "collapsed": true
   },
   "outputs": [],
   "source": [
    "import pandas as pd\n",
    "import numpy as np"
   ]
  },
  {
   "cell_type": "code",
   "execution_count": 4,
   "metadata": {
    "collapsed": false
   },
   "outputs": [],
   "source": [
    "raw = pd.read_csv(\"yellow-taxis/1january.csv\")"
   ]
  },
  {
   "cell_type": "code",
   "execution_count": 23,
   "metadata": {
    "collapsed": false
   },
   "outputs": [],
   "source": [
    "del raw['trip_distance']\n",
    "del raw['passenger_count']\n",
    "del raw['fare_amount']\n",
    "del raw['tolls_amount']\n",
    "del raw['taxes_amount']\n",
    "del raw['tip_amount']\n",
    "del raw['payment_amount']\n",
    "del raw['payment_type']"
   ]
  },
  {
   "cell_type": "code",
   "execution_count": 21,
   "metadata": {
    "collapsed": false
   },
   "outputs": [
    {
     "name": "stdout",
     "output_type": "stream",
     "text": [
      "datetime64[ns]\n"
     ]
    }
   ],
   "source": [
    "# convert pickup_dtatetime to datetime\n",
    "raw[\"pickup_datetime\"] = pd.to_datetime(raw[\"pickup_datetime\"])\n",
    "raw[\"dropoff_datetime\"] = pd.to_datetime(raw[\"dropoff_datetime\"])\n",
    "print(raw[\"pickup_datetime\"].dtype)"
   ]
  },
  {
   "cell_type": "code",
   "execution_count": 12,
   "metadata": {
    "collapsed": false
   },
   "outputs": [
    {
     "name": "stdout",
     "output_type": "stream",
     "text": [
      "0   2016-01-01 00:00:00\n",
      "1   2016-01-01 00:00:00\n",
      "2   2016-01-01 00:00:00\n",
      "3   2016-01-01 00:00:00\n",
      "4   2016-01-01 00:00:00\n",
      "5   2016-01-01 00:00:00\n",
      "6   2016-01-01 00:00:00\n",
      "7   2016-01-01 00:00:01\n",
      "8   2016-01-01 00:00:02\n",
      "9   2016-01-01 00:00:02\n",
      "Name: pickup_datetime, dtype: datetime64[ns]\n"
     ]
    }
   ],
   "source": [
    "print(raw[\"pickup_datetime\"][:1])"
   ]
  },
  {
   "cell_type": "code",
   "execution_count": 26,
   "metadata": {
    "collapsed": false
   },
   "outputs": [
    {
     "name": "stdout",
     "output_type": "stream",
     "text": [
      "['pickup_datetime', 'pickup_latitude', 'pickup_longitude', 'dropoff_datetime', 'dropoff_latitude', 'dropoff_longitude']\n",
      "[dtype('<M8[ns]'), dtype('float64'), dtype('float64'), dtype('<M8[ns]'), dtype('float64'), dtype('float64')]\n"
     ]
    }
   ],
   "source": [
    "print(list(raw.columns.values))\n",
    "print([raw[i].dtype for i in list(raw.columns.values)])"
   ]
  },
  {
   "cell_type": "code",
   "execution_count": 17,
   "metadata": {
    "collapsed": false
   },
   "outputs": [],
   "source": [
    "np_raw = raw.as_matrix()"
   ]
  },
  {
   "cell_type": "code",
   "execution_count": 20,
   "metadata": {
    "collapsed": false
   },
   "outputs": [
    {
     "name": "stdout",
     "output_type": "stream",
     "text": [
      "float64\n"
     ]
    }
   ],
   "source": [
    "print(raw[\"dropoff\"].dtype)"
   ]
  },
  {
   "cell_type": "code",
   "execution_count": null,
   "metadata": {
    "collapsed": true
   },
   "outputs": [],
   "source": []
  }
 ],
 "metadata": {
  "anaconda-cloud": {},
  "kernelspec": {
   "display_name": "Python [conda root]",
   "language": "python",
   "name": "conda-root-py"
  },
  "language_info": {
   "codemirror_mode": {
    "name": "ipython",
    "version": 3
   },
   "file_extension": ".py",
   "mimetype": "text/x-python",
   "name": "python",
   "nbconvert_exporter": "python",
   "pygments_lexer": "ipython3",
   "version": "3.5.2"
  }
 },
 "nbformat": 4,
 "nbformat_minor": 1
}
