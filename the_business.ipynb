{
 "cells": [
  {
   "cell_type": "code",
   "execution_count": 112,
   "metadata": {
    "collapsed": false
   },
   "outputs": [],
   "source": [
    "import pandas as pd\n",
    "import numpy as np\n",
    "import random as rand\n",
    "import importlib \n",
    "import matplotlib.pyplot as plt\n",
    "%matplotlib inline"
   ]
  },
  {
   "cell_type": "code",
   "execution_count": 11,
   "metadata": {
    "collapsed": false
   },
   "outputs": [],
   "source": [
    "raw = pd.read_csv(\"yellow-taxis/1january.csv\")"
   ]
  },
  {
   "cell_type": "code",
   "execution_count": 12,
   "metadata": {
    "collapsed": false
   },
   "outputs": [],
   "source": [
    "# delete unused columns\n",
    "# del raw['trip_distance']\n",
    "del raw['passenger_count']\n",
    "del raw['fare_amount']\n",
    "del raw['tolls_amount']\n",
    "del raw['taxes_amount']\n",
    "del raw['tip_amount']\n",
    "# del raw['payment_amount']\n",
    "del raw['payment_type']"
   ]
  },
  {
   "cell_type": "code",
   "execution_count": 13,
   "metadata": {
    "collapsed": false
   },
   "outputs": [],
   "source": [
    "# convert pickup_dtatetime to datetime\n",
    "raw[\"pickup_datetime\"] = pd.to_datetime(raw[\"pickup_datetime\"])\n",
    "raw[\"dropoff_datetime\"] = pd.to_datetime(raw[\"dropoff_datetime\"])"
   ]
  },
  {
   "cell_type": "code",
   "execution_count": 14,
   "metadata": {
    "collapsed": false
   },
   "outputs": [
    {
     "name": "stdout",
     "output_type": "stream",
     "text": [
      "['pickup_datetime', 'pickup_latitude', 'pickup_longitude', 'trip_distance', 'dropoff_datetime', 'dropoff_latitude', 'dropoff_longitude', 'payment_amount']\n",
      "[dtype('<M8[ns]'), dtype('float64'), dtype('float64'), dtype('float64'), dtype('<M8[ns]'), dtype('float64'), dtype('float64'), dtype('float64')]\n"
     ]
    }
   ],
   "source": [
    "#make sure types are okay\n",
    "print(list(raw.columns.values))\n",
    "print([raw[i].dtype for i in list(raw.columns.values)])"
   ]
  },
  {
   "cell_type": "code",
   "execution_count": 15,
   "metadata": {
    "collapsed": false
   },
   "outputs": [],
   "source": [
    "#convert it to a numpy matrix\n",
    "#np_raw = raw.as_matrix()"
   ]
  },
  {
   "cell_type": "code",
   "execution_count": 16,
   "metadata": {
    "collapsed": false
   },
   "outputs": [
    {
     "name": "stdout",
     "output_type": "stream",
     "text": [
      "pickup_datetime      2016-01-01 00:00:00\n",
      "pickup_latitude                  40.7347\n",
      "pickup_longitude                -73.9904\n",
      "trip_distance                        1.1\n",
      "dropoff_datetime     2016-01-01 00:00:00\n",
      "dropoff_latitude                 40.7324\n",
      "dropoff_longitude               -73.9818\n",
      "payment_amount                       8.8\n",
      "Name: 0, dtype: object\n",
      "10906858\n"
     ]
    }
   ],
   "source": [
    "#print(np_raw.dtype)\n",
    "print(raw.ix[0])\n",
    "print(len(raw))"
   ]
  },
  {
   "cell_type": "code",
   "execution_count": 149,
   "metadata": {
    "collapsed": false
   },
   "outputs": [],
   "source": [
    "import State as State\n",
    "importlib.reload(State)        \n",
    "\n",
    "class MarkovChain:\n",
    "    # num centers are we picking for k-means\n",
    "    def __init__(self, raw, k):\n",
    "        self.state_set = set()\n",
    "        self.id_to_state = {}\n",
    "        self.adj_matrix = None\n",
    "        self.raw = raw\n",
    "        \n",
    "        self.initialize_centers(k)\n",
    "        epsilon = 1e-3\n",
    "        self.build_states_kmeans(1001, epsilon)\n",
    "        \n",
    "        self.add_points_edges()\n",
    "        self.make_adjacency_matrix()\n",
    "    \n",
    "    def initialize_centers(self, k):\n",
    "        ind = [i for i in range(len(self.raw))]\n",
    "        rand.shuffle(ind)\n",
    "        centers = ind[:k]\n",
    "        # initialize centers\n",
    "        ident = 0\n",
    "        for c_ind in centers:\n",
    "            # out of convenience, we aren't messing with pickup lat lon\n",
    "            lat = self.raw.ix[c_ind][\"dropoff_latitude\"]\n",
    "            lon = self.raw.ix[c_ind][\"dropoff_longitude\"]\n",
    "            s = State.State((lat, lon), ident)\n",
    "            self.state_set.add(s)\n",
    "            self.id_to_state[ident] = s\n",
    "            ident += 1\n",
    "    \n",
    "    def build_states_kmeans(self, iterations, epsilon):\n",
    "        # run kmeans algorithm\n",
    "        min_diff = 1e6\n",
    "        while iterations > 0 and min_diff > epsilon:\n",
    "            for ind, row in self.raw.iterrows():\n",
    "                pos_start, pos_end = self.row_to_positions(row)\n",
    "                closest_to_start = self.find_closest_state(pos_start)\n",
    "                closest_to_end = self.find_closest_state(pos_end)\n",
    "                \n",
    "                closest_to_start.add_position(pos_start)\n",
    "                closest_to_end.add_position(pos_end)\n",
    "            max_diff = 0\n",
    "            for s in self.state_set:\n",
    "                max_diff = max(max_diff, s.update_center())\n",
    "            min_diff = min(min_diff, max_diff)\n",
    "            iterations -= 1 \n",
    "\n",
    "    def add_points_edges(self):\n",
    "        for s in self.state_set:\n",
    "            s.clear_stored_data()\n",
    "        for ind, row in self.raw.iterrows():\n",
    "            pos_start, pos_end = self.row_to_positions(row)\n",
    "            closest_to_start = self.find_closest_state(pos_start)\n",
    "            closest_to_end = self.find_closest_state(pos_end)\n",
    "            \n",
    "            fare = self.row_to_fare(row)\n",
    "            tdistance = self.row_to_distance(row)\n",
    "            \n",
    "            #Add points to respective states\n",
    "            closest_to_start.store_data((pos_start, fare, tdistance))\n",
    "            closest_to_end.store_data(((pos_end),))\n",
    "            \n",
    "            ##Add this edge to markov state\n",
    "            closest_to_start.add_destination(closest_to_end.id)\n",
    "    \n",
    "    \n",
    "    def make_adjacency_matrix(self):\n",
    "        self.adj_matrix = np.ndarray(shape=(len(self.state_set), len(self.state_set)), dtype=float, order='C')\n",
    "        for i in sorted(self.id_to_state.keys()):\n",
    "            for j in sorted(self.id_to_state.keys()):\n",
    "                self.adj_matrix[i][j] = self.transition_probability(i, j)\n",
    "    \n",
    "    def sum_of_square_error(self):\n",
    "        total = 0\n",
    "        for s in self.state_set:\n",
    "            total += s.sum_of_squared_errors\n",
    "        return total\n",
    "    \n",
    "    ##\n",
    "    # GETTERS\n",
    "    ##\n",
    "    def get_adjacency_matrix(self):\n",
    "        return self.adj_matrix\n",
    "    \n",
    "    ###\n",
    "    # HELPER METHODS\n",
    "    ###\n",
    "    def find_closest_state(self, pos):\n",
    "        def distance(state, pos):\n",
    "            clat, clon = state.center\n",
    "            return ((clat - pos[0])**2 + (clon - pos[1])**2)**0.5\n",
    "        closest = None\n",
    "        min_dist = None\n",
    "        for state in self.state_set:\n",
    "            d = distance(state, pos)\n",
    "            if closest == None or d < min_dist:\n",
    "                closest = state\n",
    "                min_dist = d\n",
    "        return closest\n",
    "    \n",
    "    def row_to_positions(self, row):\n",
    "        lats = row[\"pickup_latitude\"]\n",
    "        lons = row[\"pickup_longitude\"]\n",
    "        pos_start = (lats, lons)\n",
    "\n",
    "        late = row[\"dropoff_latitude\"]\n",
    "        lone = row[\"dropoff_longitude\"]\n",
    "        pos_end = (late, lone)\n",
    "        \n",
    "        return pos_start, pos_end\n",
    "    \n",
    "    def row_to_fare(self, row):\n",
    "        return row[\"payment_amount\"]\n",
    "    def row_to_distance(self, row):\n",
    "        return row[\"trip_distance\"]\n",
    "    \n",
    "    def transition_probability(self, i, j):\n",
    "        return self.id_to_state[i].probability_to(j)\n"
   ]
  },
  {
   "cell_type": "code",
   "execution_count": 156,
   "metadata": {
    "collapsed": true
   },
   "outputs": [],
   "source": [
    "def find_optimal_k(raw, k_list):\n",
    "    y = []\n",
    "    x = []\n",
    "    k_dict = {}\n",
    "    for t in trials:\n",
    "        for k in k_list:\n",
    "            if k not in k_dict:\n",
    "                k_dict[k] = []\n",
    "            try:\n",
    "                m = MarkovChain(raw[:1000], k)\n",
    "                x.append(k)\n",
    "                y.append(m.sum_of_square_error())\n",
    "            except ZeroDivisionError:\n",
    "                print(\"hello\")\n",
    "    return x, y"
   ]
  },
  {
   "cell_type": "code",
   "execution_count": 159,
   "metadata": {
    "collapsed": false
   },
   "outputs": [
    {
     "name": "stdout",
     "output_type": "stream",
     "text": [
      "997\n",
      "999\n",
      "998\n",
      "999\n",
      "998\n",
      "999\n",
      "998\n",
      "998\n",
      "998\n",
      "999\n",
      "998\n",
      "997\n",
      "996\n",
      "1000\n",
      "998\n",
      "998\n",
      "997\n",
      "998\n",
      "997\n",
      "999\n",
      "997\n",
      "998\n",
      "999\n",
      "998\n",
      "998\n",
      "997\n",
      "999\n",
      "995\n",
      "998\n",
      "1000\n",
      "998\n",
      "998\n",
      "997\n",
      "997\n",
      "997\n",
      "997\n",
      "997\n",
      "998\n",
      "998\n",
      "hello\n",
      "996\n",
      "998\n",
      "hello\n",
      "hello\n",
      "999\n"
     ]
    }
   ],
   "source": [
    "x, y = find_optimal_k(raw, k_list=[i for i in range(5, 50)])"
   ]
  },
  {
   "cell_type": "code",
   "execution_count": 161,
   "metadata": {
    "collapsed": false
   },
   "outputs": [
    {
     "data": {
      "text/plain": [
       "[<matplotlib.lines.Line2D at 0x21e6590f0>]"
      ]
     },
     "execution_count": 161,
     "metadata": {},
     "output_type": "execute_result"
    },
    {
     "data": {
      "image/png": "[encoded data removed]",
      "text/plain": [
       "<matplotlib.figure.Figure at 0x21cba8470>"
      ]
     },
     "metadata": {},
     "output_type": "display_data"
    }
   ],
   "source": [
    "plt.plot(x, y)"
   ]
  },
  {
   "cell_type": "code",
   "execution_count": 84,
   "metadata": {
    "collapsed": false
   },
   "outputs": [
    {
     "name": "stdout",
     "output_type": "stream",
     "text": [
      "954\n"
     ]
    }
   ],
   "source": [
    "m = MarkovChain(raw[:1000], 10)"
   ]
  },
  {
   "cell_type": "code",
   "execution_count": 85,
   "metadata": {
    "collapsed": false
   },
   "outputs": [],
   "source": [
    "adjm = m.get_adjacency_matrix()"
   ]
  },
  {
   "cell_type": "code",
   "execution_count": 86,
   "metadata": {
    "collapsed": false
   },
   "outputs": [
    {
     "data": {
      "text/plain": [
       "array([ 1.,  1.,  1.,  1.,  1.,  1.,  1.,  1.,  1.,  1.])"
      ]
     },
     "execution_count": 86,
     "metadata": {},
     "output_type": "execute_result"
    }
   ],
   "source": [
    "np.sum(adjm, axis=1)"
   ]
  },
  {
   "cell_type": "code",
   "execution_count": 87,
   "metadata": {
    "collapsed": false
   },
   "outputs": [],
   "source": [
    "S, U = np.linalg.eig(adjm.T)"
   ]
  },
  {
   "cell_type": "code",
   "execution_count": 88,
   "metadata": {
    "collapsed": false
   },
   "outputs": [
    {
     "name": "stdout",
     "output_type": "stream",
     "text": [
      "[[  5.31330550e-01   4.41271844e-01   9.99199009e-03   1.31479175e-02\n",
      "    2.66373635e-01   1.78212444e-01   1.64875717e-01   2.35310357e-01\n",
      "    3.14666078e-01   4.88272469e-01]\n",
      " [ -1.36362847e-01  -1.95801303e-01  -5.84788025e-03   9.20295900e-01\n",
      "   -9.86829862e-03   7.19477706e-03  -8.78117742e-02  -9.92068000e-02\n",
      "   -1.70585118e-01  -2.22006656e-01]\n",
      " [  1.78423425e-01   3.57977082e-01   1.00749752e-02  -3.67272166e-03\n",
      "   -4.01242241e-01   9.37653405e-02   4.30675698e-01  -3.86756976e-02\n",
      "   -6.92060200e-01   6.47343394e-02]\n",
      " [  2.30857128e-01   2.11657447e-01  -1.46525633e-03  -4.04566328e-03\n",
      "   -6.36489253e-01   1.28330060e-01   5.42047174e-01   1.13074049e-01\n",
      "   -2.52035482e-01  -3.31930204e-01]\n",
      " [  4.49437832e-01  -1.57946993e-01  -1.15357687e-02  -5.45335517e-03\n",
      "   -3.62345866e-01   3.84822330e-01  -5.65065880e-01   3.85278237e-01\n",
      "    3.86344534e-02  -1.55824989e-01]\n",
      " [ -1.15989332e-01  -7.00118803e-03  -1.44152795e-03   6.41186579e-04\n",
      "   -8.57465539e-03   7.04620412e-01  -1.01091165e-02  -6.93331207e-01\n",
      "    8.16606127e-02   4.95248154e-02]\n",
      " [  2.79562731e-01  -7.20741556e-01   1.65439009e-02  -1.70404211e-03\n",
      "   -1.65393875e-01   1.61430227e-02   4.74040911e-02  -1.03035421e-01\n",
      "    3.06540535e-02   6.00567095e-01]\n",
      " [ -3.93178983e-01   1.62693773e-01   7.37334175e-02   3.46569071e-03\n",
      "   -5.35039619e-01  -1.41736878e-01  -3.93678782e-02  -2.05201882e-03\n",
      "    1.84901908e-01   6.86580588e-01]\n",
      " [ -6.47903844e-01  -2.91658369e-01   5.08465514e-02   4.48850325e-03\n",
      "    7.00791158e-02   2.72021000e-01   6.73726477e-02   6.13296661e-01\n",
      "   -1.77380177e-01   3.88379105e-02]\n",
      " [  4.14415299e-01   4.06518529e-01  -3.25729559e-01  -3.03097359e-03\n",
      "   -1.84934024e-01  -3.78249151e-01   1.29222699e-01  -4.90283131e-01\n",
      "    3.36870307e-01   9.52000045e-02]]\n"
     ]
    }
   ],
   "source": [
    "print(U.T)"
   ]
  },
  {
   "cell_type": "code",
   "execution_count": 89,
   "metadata": {
    "collapsed": false
   },
   "outputs": [
    {
     "name": "stdout",
     "output_type": "stream",
     "text": [
      "[ 0.53133055  0.44127184  0.00999199  0.01314792  0.26637364  0.17821244\n",
      "  0.16487572  0.23531036  0.31466608  0.48827247]\n"
     ]
    }
   ],
   "source": [
    "# U is row major\n",
    "inv_dist = U.T[0]\n",
    "print(inv_dist)"
   ]
  },
  {
   "cell_type": "code",
   "execution_count": 90,
   "metadata": {
    "collapsed": false
   },
   "outputs": [],
   "source": [
    "norm_inv_dist = inv_dist / float(sum(inv_dist))"
   ]
  },
  {
   "cell_type": "code",
   "execution_count": 91,
   "metadata": {
    "collapsed": false
   },
   "outputs": [],
   "source": [
    "inv2 = sorted(norm_inv_dist)"
   ]
  },
  {
   "cell_type": "code",
   "execution_count": 92,
   "metadata": {
    "collapsed": false
   },
   "outputs": [],
   "source": [
    "old_norm_inv_dist = sorted(norm_inv_dist)"
   ]
  },
  {
   "cell_type": "code",
   "execution_count": 93,
   "metadata": {
    "collapsed": false
   },
   "outputs": [
    {
     "data": {
      "text/plain": [
       "[0.0037799007928733678,\n",
       " 0.0049737663347102726,\n",
       " 0.062371344098738728,\n",
       " 0.067416535703548622,\n",
       " 0.089016281607378289,\n",
       " 0.10076730512897364,\n",
       " 0.11903600259890167,\n",
       " 0.16693008870984083,\n",
       " 0.18471010020468359,\n",
       " 0.20099867482035097]"
      ]
     },
     "execution_count": 93,
     "metadata": {},
     "output_type": "execute_result"
    }
   ],
   "source": [
    "old_norm_inv_dist"
   ]
  },
  {
   "cell_type": "code",
   "execution_count": null,
   "metadata": {
    "collapsed": true
   },
   "outputs": [],
   "source": []
  }
 ],
 "metadata": {
  "anaconda-cloud": {},
  "kernelspec": {
   "display_name": "Python [conda root]",
   "language": "python",
   "name": "conda-root-py"
  },
  "language_info": {
   "codemirror_mode": {
    "name": "ipython",
    "version": 3
   },
   "file_extension": ".py",
   "mimetype": "text/x-python",
   "name": "python",
   "nbconvert_exporter": "python",
   "pygments_lexer": "ipython3",
   "version": "3.5.2"
  }
 },
 "nbformat": 4,
 "nbformat_minor": 1
}
