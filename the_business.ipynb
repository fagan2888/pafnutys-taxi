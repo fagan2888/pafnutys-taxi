{
 "cells": [
  {
   "cell_type": "code",
   "execution_count": 44,
   "metadata": {
    "collapsed": true
   },
   "outputs": [],
   "source": [
    "import pandas as pd\n",
    "import numpy as np\n",
    "import random as rand"
   ]
  },
  {
   "cell_type": "code",
   "execution_count": 4,
   "metadata": {
    "collapsed": false
   },
   "outputs": [],
   "source": [
    "raw = pd.read_csv(\"yellow-taxis/1january.csv\")"
   ]
  },
  {
   "cell_type": "code",
   "execution_count": 23,
   "metadata": {
    "collapsed": false
   },
   "outputs": [],
   "source": [
    "# delete unused columns\n",
    "del raw['trip_distance']\n",
    "del raw['passenger_count']\n",
    "del raw['fare_amount']\n",
    "del raw['tolls_amount']\n",
    "del raw['taxes_amount']\n",
    "del raw['tip_amount']\n",
    "del raw['payment_amount']\n",
    "del raw['payment_type']"
   ]
  },
  {
   "cell_type": "code",
   "execution_count": 28,
   "metadata": {
    "collapsed": false
   },
   "outputs": [],
   "source": [
    "# convert pickup_dtatetime to datetime\n",
    "raw[\"pickup_datetime\"] = pd.to_datetime(raw[\"pickup_datetime\"])\n",
    "raw[\"dropoff_datetime\"] = pd.to_datetime(raw[\"dropoff_datetime\"])"
   ]
  },
  {
   "cell_type": "code",
   "execution_count": 29,
   "metadata": {
    "collapsed": false
   },
   "outputs": [
    {
     "name": "stdout",
     "output_type": "stream",
     "text": [
      "['pickup_datetime', 'pickup_latitude', 'pickup_longitude', 'dropoff_datetime', 'dropoff_latitude', 'dropoff_longitude']\n",
      "[dtype('<M8[ns]'), dtype('float64'), dtype('float64'), dtype('<M8[ns]'), dtype('float64'), dtype('float64')]\n"
     ]
    }
   ],
   "source": [
    "#make sure types are okay\n",
    "print(list(raw.columns.values))\n",
    "print([raw[i].dtype for i in list(raw.columns.values)])"
   ]
  },
  {
   "cell_type": "code",
   "execution_count": 17,
   "metadata": {
    "collapsed": false
   },
   "outputs": [],
   "source": [
    "#convert it to a numpy matrix\n",
    "np_raw = raw.as_matrix()"
   ]
  },
  {
   "cell_type": "code",
   "execution_count": 45,
   "metadata": {
    "collapsed": false
   },
   "outputs": [
    {
     "name": "stdout",
     "output_type": "stream",
     "text": [
      "object\n",
      "pickup_datetime      2016-01-01 00:00:00\n",
      "pickup_latitude                  40.7347\n",
      "pickup_longitude                -73.9904\n",
      "dropoff_datetime     2016-01-01 00:00:00\n",
      "dropoff_latitude                 40.7324\n",
      "dropoff_longitude               -73.9818\n",
      "Name: 0, dtype: object\n",
      "10906858\n"
     ]
    }
   ],
   "source": [
    "print(np_raw.dtype)\n",
    "print(raw.ix[0])\n",
    "print(len(raw))"
   ]
  },
  {
   "cell_type": "code",
   "execution_count": 47,
   "metadata": {
    "collapsed": false
   },
   "outputs": [],
   "source": [
    "class MarkovChain:\n",
    "    # num centers are we picking for k-means\n",
    "    k = 10\n",
    "    def __init__(self, raw):\n",
    "        self.state_set = set()\n",
    "        self.raw = raw\n",
    "        self.initialize_centers(k)\n",
    "        self.build_states_kmeans(10)\n",
    "        self.add_edges()\n",
    "\n",
    "    def initialize_centers(self, k):\n",
    "        ind = [i for i in range(len(self.raw))]\n",
    "        rand.shuffle(ind)\n",
    "        centers = ind[:k]\n",
    "        # initialize centers\n",
    "        for c_ind in centers:\n",
    "            # out of convenience, we aren't messing with dropoff lat lon\n",
    "            lat = self.raw.ix[c_ind][\"pickup_latitude\"]\n",
    "            lon = self.raw.ix[c_ind][\"pickup_longitude\"]\n",
    "            s = State((lat, lon))\n",
    "            self.state_set.add(s)\n",
    "    \n",
    "    def build_states_kmeans(self, iterations):\n",
    "        # run kmeans algorithm\n",
    "        for it in iterations:\n",
    "            for ind, row in self.raw.iterrows():\n",
    "                pos_start, pos_end = self.row_to_positions(row)\n",
    "                closest_to_start = find_closest_state(pos_start)\n",
    "                closest_to_end = find_closest_state(pos_end)\n",
    "                \n",
    "                closest_to_start.add_position(pos_start)\n",
    "                closest_to_end.add_position(pos_end)\n",
    "            for s in state_set:\n",
    "                s.update_center()\n",
    "        \n",
    "    def add_edges(self):\n",
    "        for ind, row in self.raw.iterrows():\n",
    "            pos_start, pos_end = self.row_to_positions(row)\n",
    "            closest_to_start = find_closest_state(pos_start)\n",
    "            closest_to_end = find_closest_state(pos_end)\n",
    "\n",
    "            ##Add this edge to markov state\n",
    "            closest_to_start.add_dest(closest_to_end)\n",
    "    \n",
    "    ###\n",
    "    # HELPER METHODS\n",
    "    ###\n",
    "    def find_closest_state(pos):\n",
    "        def distance(state, pos):\n",
    "            clat, clon = state.center\n",
    "            return ((clat - pos[0])**2 + (clon - pos[1])**2)**0.5\n",
    "        closest = None\n",
    "        min_dist = None\n",
    "        for state in self.state_set:\n",
    "            d = distance(state, pos)\n",
    "            if closest == None or d < min_dist:\n",
    "                closest = state\n",
    "                min_dist = d\n",
    "        return closest\n",
    "    \n",
    "    def row_to_positions(self, row):\n",
    "        lats = row[\"pickup_latitude\"]\n",
    "        lons = row[\"pickup_longitude\"]\n",
    "        pos_start = (lats, lons)\n",
    "\n",
    "        late = row[\"dropoff_latitude\"]\n",
    "        lone = row[\"dropoff_longitude\"]\n",
    "        pos_end = (late, lone)\n",
    "        \n",
    "        return pos_start, pos_end\n",
    "    \n",
    "    \n",
    "#     def buildstates_naive(self):\n",
    "#         ind = [i for i in range(len(raw))]\n",
    "#         rand.shuffle(ind)\n",
    "#         centers = ind[:k]\n",
    "#         #initialize centers\n",
    "#         for c_ind in centers:\n",
    "#             # out of convenience, we aren't messing with dropoff lat lon\n",
    "#             lat = self.raw.ix[c_ind][\"pickup_latitude\"]\n",
    "#             lon = self.raw.ix[c_ind][\"pickup_longitude\"]\n",
    "#             s = State((lat, lon))\n",
    "#             state_set.add(s)\n",
    "#         for ind, row in self.raw.iterrows():\n",
    "#             lats = self.raw.ix[c_ind][\"pickup_latitude\"]\n",
    "#             lons = self.raw.ix[c_ind][\"pickup_longitude\"]\n",
    "#             pos_start = (lats, lons)\n",
    "            \n",
    "#             late = self.raw.ix[c_ind][\"dropoff_latitude\"]\n",
    "#             lone = self.raw.ix[c_ind][\"dropoff_longitude\"]\n",
    "#             pos_end = (late, lone)\n",
    "            \n",
    "#             closest_to_start = find_closest_state(pos_start)\n",
    "#             closest_to_end = find_closest_state(pos_end)\n",
    "            \n",
    "\n"
   ]
  },
  {
   "cell_type": "code",
   "execution_count": null,
   "metadata": {
    "collapsed": true
   },
   "outputs": [],
   "source": []
  }
 ],
 "metadata": {
  "anaconda-cloud": {},
  "kernelspec": {
   "display_name": "Python [conda root]",
   "language": "python",
   "name": "conda-root-py"
  },
  "language_info": {
   "codemirror_mode": {
    "name": "ipython",
    "version": 3
   },
   "file_extension": ".py",
   "mimetype": "text/x-python",
   "name": "python",
   "nbconvert_exporter": "python",
   "pygments_lexer": "ipython3",
   "version": "3.5.2"
  }
 },
 "nbformat": 4,
 "nbformat_minor": 1
}
