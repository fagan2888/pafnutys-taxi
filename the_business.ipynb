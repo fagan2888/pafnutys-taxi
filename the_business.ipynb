{
 "cells": [
  {
   "cell_type": "code",
   "execution_count": 22,
   "metadata": {
    "collapsed": false
   },
   "outputs": [],
   "source": [
    "import pandas as pd\n",
    "import numpy as np\n",
    "import random as rand\n",
    "import importlib"
   ]
  },
  {
   "cell_type": "code",
   "execution_count": 11,
   "metadata": {
    "collapsed": false
   },
   "outputs": [],
   "source": [
    "raw = pd.read_csv(\"yellow-taxis/1january.csv\")"
   ]
  },
  {
   "cell_type": "code",
   "execution_count": 12,
   "metadata": {
    "collapsed": false
   },
   "outputs": [],
   "source": [
    "# delete unused columns\n",
    "# del raw['trip_distance']\n",
    "del raw['passenger_count']\n",
    "del raw['fare_amount']\n",
    "del raw['tolls_amount']\n",
    "del raw['taxes_amount']\n",
    "del raw['tip_amount']\n",
    "# del raw['payment_amount']\n",
    "del raw['payment_type']"
   ]
  },
  {
   "cell_type": "code",
   "execution_count": 13,
   "metadata": {
    "collapsed": false
   },
   "outputs": [],
   "source": [
    "# convert pickup_dtatetime to datetime\n",
    "raw[\"pickup_datetime\"] = pd.to_datetime(raw[\"pickup_datetime\"])\n",
    "raw[\"dropoff_datetime\"] = pd.to_datetime(raw[\"dropoff_datetime\"])"
   ]
  },
  {
   "cell_type": "code",
   "execution_count": 14,
   "metadata": {
    "collapsed": false
   },
   "outputs": [
    {
     "name": "stdout",
     "output_type": "stream",
     "text": [
      "['pickup_datetime', 'pickup_latitude', 'pickup_longitude', 'trip_distance', 'dropoff_datetime', 'dropoff_latitude', 'dropoff_longitude', 'payment_amount']\n",
      "[dtype('<M8[ns]'), dtype('float64'), dtype('float64'), dtype('float64'), dtype('<M8[ns]'), dtype('float64'), dtype('float64'), dtype('float64')]\n"
     ]
    }
   ],
   "source": [
    "#make sure types are okay\n",
    "print(list(raw.columns.values))\n",
    "print([raw[i].dtype for i in list(raw.columns.values)])"
   ]
  },
  {
   "cell_type": "code",
   "execution_count": 15,
   "metadata": {
    "collapsed": false
   },
   "outputs": [],
   "source": [
    "#convert it to a numpy matrix\n",
    "#np_raw = raw.as_matrix()"
   ]
  },
  {
   "cell_type": "code",
   "execution_count": 16,
   "metadata": {
    "collapsed": false
   },
   "outputs": [
    {
     "name": "stdout",
     "output_type": "stream",
     "text": [
      "pickup_datetime      2016-01-01 00:00:00\n",
      "pickup_latitude                  40.7347\n",
      "pickup_longitude                -73.9904\n",
      "trip_distance                        1.1\n",
      "dropoff_datetime     2016-01-01 00:00:00\n",
      "dropoff_latitude                 40.7324\n",
      "dropoff_longitude               -73.9818\n",
      "payment_amount                       8.8\n",
      "Name: 0, dtype: object\n",
      "10906858\n"
     ]
    }
   ],
   "source": [
    "#print(np_raw.dtype)\n",
    "print(raw.ix[0])\n",
    "print(len(raw))"
   ]
  },
  {
   "cell_type": "code",
   "execution_count": 37,
   "metadata": {
    "collapsed": false
   },
   "outputs": [],
   "source": [
    "import State as State\n",
    "importlib.reload(State)\n",
    "class MarkovChain:\n",
    "    # num centers are we picking for k-means\n",
    "    k = 10\n",
    "    def __init__(self, raw):\n",
    "        self.state_set = set()\n",
    "        self.id_to_state = {}\n",
    "        self.adj_matrix = None\n",
    "        self.raw = raw\n",
    "        \n",
    "        #self.find_optimal_k()\n",
    "        \n",
    "        self.initialize_centers(self.k)\n",
    "        epsilon = 1e-9\n",
    "        self.build_states_kmeans(1000, epsilon)\n",
    "        \n",
    "        self.add_points_edges()\n",
    "        self.make_adjacency_matrix()\n",
    "    \n",
    "#     def find_optimal_k(self):\n",
    "#         []\n",
    "    \n",
    "    def initialize_centers(self, k):\n",
    "        ind = [i for i in range(len(self.raw))]\n",
    "        rand.shuffle(ind)\n",
    "        centers = ind[:k]\n",
    "        # initialize centers\n",
    "        ident = 0\n",
    "        for c_ind in centers:\n",
    "            # out of convenience, we aren't messing with pickup lat lon\n",
    "            lat = self.raw.ix[c_ind][\"dropoff_latitude\"]\n",
    "            lon = self.raw.ix[c_ind][\"dropoff_longitude\"]\n",
    "            s = State.State((lat, lon), ident)\n",
    "            self.state_set.add(s)\n",
    "            self.id_to_state[ident] = s\n",
    "            ident += 1\n",
    "    \n",
    "    def build_states_kmeans(self, iterations, epsilon):\n",
    "        # run kmeans algorithm\n",
    "        max_diff = 0\n",
    "        while iterations > 0 and max_diff > epsilon:\n",
    "            for ind, row in self.raw.iterrows():\n",
    "                pos_start, pos_end = self.row_to_positions(row)\n",
    "                closest_to_start = self.find_closest_state(pos_start)\n",
    "                closest_to_end = self.find_closest_state(pos_end)\n",
    "                \n",
    "                closest_to_start.add_position(pos_start)\n",
    "                closest_to_end.add_position(pos_end)\n",
    "            max_diff = 0\n",
    "            for s in self.state_set:\n",
    "                max_diff = max(max_diff, s.update_center())\n",
    "        print(iterations) \n",
    "\n",
    "    def add_points_edges(self):\n",
    "        for s in self.state_set:\n",
    "            s.clear_stored_data()\n",
    "        for ind, row in self.raw.iterrows():\n",
    "            pos_start, pos_end = self.row_to_positions(row)\n",
    "            closest_to_start = self.find_closest_state(pos_start)\n",
    "            closest_to_end = self.find_closest_state(pos_end)\n",
    "            \n",
    "            fare = self.row_to_fare(row)\n",
    "            tdistance = self.row_to_distance(row)\n",
    "            \n",
    "            #Add points to respective states\n",
    "            closest_to_start.store_data((pos_start, fare, tdistance))\n",
    "            closest_to_end.store_data((pos_end))\n",
    "            \n",
    "            ##Add this edge to markov state\n",
    "            closest_to_start.add_destination(closest_to_end.id)\n",
    "    \n",
    "    \n",
    "    def make_adjacency_matrix(self):\n",
    "        self.adj_matrix = np.ndarray(shape=(len(self.state_set), len(self.state_set)), dtype=float, order='C')\n",
    "        for i in sorted(self.id_to_state.keys()):\n",
    "            for j in sorted(self.id_to_state.keys()):\n",
    "                self.adj_matrix[i][j] = self.transition_probability(i, j)\n",
    "        \n",
    "    \n",
    "    ##\n",
    "    # GETTERS\n",
    "    ##\n",
    "    def get_adjacency_matrix(self):\n",
    "        return self.adj_matrix\n",
    "    \n",
    "    ###\n",
    "    # HELPER METHODS\n",
    "    ###\n",
    "    def find_closest_state(self, pos):\n",
    "        def distance(state, pos):\n",
    "            clat, clon = state.center\n",
    "            return ((clat - pos[0])**2 + (clon - pos[1])**2)**0.5\n",
    "        closest = None\n",
    "        min_dist = None\n",
    "        for state in self.state_set:\n",
    "            d = distance(state, pos)\n",
    "            if closest == None or d < min_dist:\n",
    "                closest = state\n",
    "                min_dist = d\n",
    "        return closest\n",
    "    \n",
    "    def row_to_positions(self, row):\n",
    "        lats = row[\"pickup_latitude\"]\n",
    "        lons = row[\"pickup_longitude\"]\n",
    "        pos_start = (lats, lons)\n",
    "\n",
    "        late = row[\"dropoff_latitude\"]\n",
    "        lone = row[\"dropoff_longitude\"]\n",
    "        pos_end = (late, lone)\n",
    "        \n",
    "        return pos_start, pos_end\n",
    "    \n",
    "    def row_to_fare(self, row):\n",
    "        return row[\"payment_amount\"]\n",
    "    def row_to_distance(self, row):\n",
    "        return row[\"trip_distance\"]\n",
    "    \n",
    "    def transition_probability(self, i, j):\n",
    "        return self.id_to_state[i].probability_to(j)\n"
   ]
  },
  {
   "cell_type": "code",
   "execution_count": 38,
   "metadata": {
    "collapsed": false
   },
   "outputs": [
    {
     "name": "stdout",
     "output_type": "stream",
     "text": [
      "1000\n"
     ]
    },
    {
     "ename": "AttributeError",
     "evalue": "'State' object has no attribute 'stored_points'",
     "output_type": "error",
     "traceback": [
      "\u001b[0;31m---------------------------------------------------------------------------\u001b[0m",
      "\u001b[0;31mAttributeError\u001b[0m                            Traceback (most recent call last)",
      "\u001b[0;32m<ipython-input-38-8b7d17ebbf40>\u001b[0m in \u001b[0;36m<module>\u001b[0;34m()\u001b[0m\n\u001b[0;32m----> 1\u001b[0;31m \u001b[0mm\u001b[0m \u001b[0;34m=\u001b[0m \u001b[0mMarkovChain\u001b[0m\u001b[0;34m(\u001b[0m\u001b[0mraw\u001b[0m\u001b[0;34m[\u001b[0m\u001b[0;34m:\u001b[0m\u001b[0;36m1000\u001b[0m\u001b[0;34m]\u001b[0m\u001b[0;34m)\u001b[0m\u001b[0;34m\u001b[0m\u001b[0m\n\u001b[0m",
      "\u001b[0;32m<ipython-input-37-25bb3d26fca2>\u001b[0m in \u001b[0;36m__init__\u001b[0;34m(self, raw)\u001b[0m\n\u001b[1;32m     16\u001b[0m         \u001b[0mself\u001b[0m\u001b[0;34m.\u001b[0m\u001b[0mbuild_states_kmeans\u001b[0m\u001b[0;34m(\u001b[0m\u001b[0;36m1000\u001b[0m\u001b[0;34m,\u001b[0m \u001b[0mepsilon\u001b[0m\u001b[0;34m)\u001b[0m\u001b[0;34m\u001b[0m\u001b[0m\n\u001b[1;32m     17\u001b[0m \u001b[0;34m\u001b[0m\u001b[0m\n\u001b[0;32m---> 18\u001b[0;31m         \u001b[0mself\u001b[0m\u001b[0;34m.\u001b[0m\u001b[0madd_points_edges\u001b[0m\u001b[0;34m(\u001b[0m\u001b[0;34m)\u001b[0m\u001b[0;34m\u001b[0m\u001b[0m\n\u001b[0m\u001b[1;32m     19\u001b[0m         \u001b[0mself\u001b[0m\u001b[0;34m.\u001b[0m\u001b[0mmake_adjacency_matrix\u001b[0m\u001b[0;34m(\u001b[0m\u001b[0;34m)\u001b[0m\u001b[0;34m\u001b[0m\u001b[0m\n\u001b[1;32m     20\u001b[0m \u001b[0;34m\u001b[0m\u001b[0m\n",
      "\u001b[0;32m<ipython-input-37-25bb3d26fca2>\u001b[0m in \u001b[0;36madd_points_edges\u001b[0;34m(self)\u001b[0m\n\u001b[1;32m     65\u001b[0m \u001b[0;34m\u001b[0m\u001b[0m\n\u001b[1;32m     66\u001b[0m             \u001b[0;31m#Add points to respective states\u001b[0m\u001b[0;34m\u001b[0m\u001b[0;34m\u001b[0m\u001b[0m\n\u001b[0;32m---> 67\u001b[0;31m             \u001b[0mclosest_to_start\u001b[0m\u001b[0;34m.\u001b[0m\u001b[0mstore_data\u001b[0m\u001b[0;34m(\u001b[0m\u001b[0;34m(\u001b[0m\u001b[0mpos_start\u001b[0m\u001b[0;34m,\u001b[0m \u001b[0mfare\u001b[0m\u001b[0;34m,\u001b[0m \u001b[0mtdistance\u001b[0m\u001b[0;34m)\u001b[0m\u001b[0;34m)\u001b[0m\u001b[0;34m\u001b[0m\u001b[0m\n\u001b[0m\u001b[1;32m     68\u001b[0m             \u001b[0mclosest_to_end\u001b[0m\u001b[0;34m.\u001b[0m\u001b[0mstore_data\u001b[0m\u001b[0;34m(\u001b[0m\u001b[0;34m(\u001b[0m\u001b[0mpos_end\u001b[0m\u001b[0;34m)\u001b[0m\u001b[0;34m)\u001b[0m\u001b[0;34m\u001b[0m\u001b[0m\n\u001b[1;32m     69\u001b[0m \u001b[0;34m\u001b[0m\u001b[0m\n",
      "\u001b[0;32m/Users/cheng/Documents/Berkeley_Stuff/Class/ee126/Project/State.py\u001b[0m in \u001b[0;36mstore_data\u001b[0;34m(self, data_point)\u001b[0m\n\u001b[1;32m     46\u001b[0m         \"\"\"if data_point is a start point then it will contain fare and \n\u001b[1;32m     47\u001b[0m         duration of the ride also passed in inside the tuple\"\"\"\n\u001b[0;32m---> 48\u001b[0;31m         \u001b[0mself\u001b[0m\u001b[0;34m.\u001b[0m\u001b[0mstored_points\u001b[0m\u001b[0;34m.\u001b[0m\u001b[0madd\u001b[0m\u001b[0;34m(\u001b[0m\u001b[0mdata_point\u001b[0m\u001b[0;34m)\u001b[0m\u001b[0;34m\u001b[0m\u001b[0m\n\u001b[0m\u001b[1;32m     49\u001b[0m \u001b[0;34m\u001b[0m\u001b[0m\n\u001b[1;32m     50\u001b[0m     \u001b[0;32mdef\u001b[0m \u001b[0mclear_stored_data\u001b[0m\u001b[0;34m(\u001b[0m\u001b[0mself\u001b[0m\u001b[0;34m)\u001b[0m\u001b[0;34m:\u001b[0m\u001b[0;34m\u001b[0m\u001b[0m\n",
      "\u001b[0;31mAttributeError\u001b[0m: 'State' object has no attribute 'stored_points'"
     ]
    }
   ],
   "source": [
    "m = MarkovChain(raw[:1000])"
   ]
  },
  {
   "cell_type": "code",
   "execution_count": 34,
   "metadata": {
    "collapsed": false
   },
   "outputs": [
    {
     "ename": "NameError",
     "evalue": "name 'm' is not defined",
     "output_type": "error",
     "traceback": [
      "\u001b[0;31m---------------------------------------------------------------------------\u001b[0m",
      "\u001b[0;31mNameError\u001b[0m                                 Traceback (most recent call last)",
      "\u001b[0;32m<ipython-input-34-2a2a8c137264>\u001b[0m in \u001b[0;36m<module>\u001b[0;34m()\u001b[0m\n\u001b[0;32m----> 1\u001b[0;31m \u001b[0madjm\u001b[0m \u001b[0;34m=\u001b[0m \u001b[0mm\u001b[0m\u001b[0;34m.\u001b[0m\u001b[0mget_adjacency_matrix\u001b[0m\u001b[0;34m(\u001b[0m\u001b[0;34m)\u001b[0m\u001b[0;34m\u001b[0m\u001b[0m\n\u001b[0m",
      "\u001b[0;31mNameError\u001b[0m: name 'm' is not defined"
     ]
    }
   ],
   "source": [
    "adjm = m.get_adjacency_matrix()"
   ]
  },
  {
   "cell_type": "code",
   "execution_count": null,
   "metadata": {
    "collapsed": false
   },
   "outputs": [],
   "source": [
    "np.sum(adjm, axis=1)"
   ]
  },
  {
   "cell_type": "code",
   "execution_count": null,
   "metadata": {
    "collapsed": false
   },
   "outputs": [],
   "source": [
    "S, U = np.linalg.eig(adjm.T)"
   ]
  },
  {
   "cell_type": "code",
   "execution_count": null,
   "metadata": {
    "collapsed": false
   },
   "outputs": [],
   "source": [
    "print(U.T)"
   ]
  },
  {
   "cell_type": "code",
   "execution_count": null,
   "metadata": {
    "collapsed": false
   },
   "outputs": [],
   "source": [
    "# U is row major\n",
    "inv_dist = U.T[0]\n",
    "print(inv_dist)"
   ]
  },
  {
   "cell_type": "code",
   "execution_count": null,
   "metadata": {
    "collapsed": false
   },
   "outputs": [],
   "source": [
    "norm_inv_dist = inv_dist / float(sum(inv_dist))"
   ]
  },
  {
   "cell_type": "code",
   "execution_count": null,
   "metadata": {
    "collapsed": false
   },
   "outputs": [],
   "source": [
    "inv2 = sorted(norm_inv_dist)"
   ]
  },
  {
   "cell_type": "code",
   "execution_count": null,
   "metadata": {
    "collapsed": false
   },
   "outputs": [],
   "source": [
    "old_norm_inv_dist = sorted(norm_inv_dist)"
   ]
  },
  {
   "cell_type": "code",
   "execution_count": null,
   "metadata": {
    "collapsed": false
   },
   "outputs": [],
   "source": [
    "old_norm_inv_dist"
   ]
  },
  {
   "cell_type": "code",
   "execution_count": null,
   "metadata": {
    "collapsed": true
   },
   "outputs": [],
   "source": []
  }
 ],
 "metadata": {
  "anaconda-cloud": {},
  "kernelspec": {
   "display_name": "Python [conda root]",
   "language": "python",
   "name": "conda-root-py"
  },
  "language_info": {
   "codemirror_mode": {
    "name": "ipython",
    "version": 3
   },
   "file_extension": ".py",
   "mimetype": "text/x-python",
   "name": "python",
   "nbconvert_exporter": "python",
   "pygments_lexer": "ipython3",
   "version": "3.5.2"
  }
 },
 "nbformat": 4,
 "nbformat_minor": 1
}
