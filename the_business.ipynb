{
 "cells": [
  {
   "cell_type": "code",
   "execution_count": 22,
   "metadata": {
    "collapsed": false
   },
   "outputs": [],
   "source": [
    "import pandas as pd\n",
    "import numpy as np\n",
    "import random as rand\n",
    "import importlib"
   ]
  },
  {
   "cell_type": "code",
   "execution_count": 11,
   "metadata": {
    "collapsed": false
   },
   "outputs": [],
   "source": [
    "raw = pd.read_csv(\"yellow-taxis/1january.csv\")"
   ]
  },
  {
   "cell_type": "code",
   "execution_count": 12,
   "metadata": {
    "collapsed": false
   },
   "outputs": [],
   "source": [
    "# delete unused columns\n",
    "# del raw['trip_distance']\n",
    "del raw['passenger_count']\n",
    "del raw['fare_amount']\n",
    "del raw['tolls_amount']\n",
    "del raw['taxes_amount']\n",
    "del raw['tip_amount']\n",
    "# del raw['payment_amount']\n",
    "del raw['payment_type']"
   ]
  },
  {
   "cell_type": "code",
   "execution_count": 13,
   "metadata": {
    "collapsed": false
   },
   "outputs": [],
   "source": [
    "# convert pickup_dtatetime to datetime\n",
    "raw[\"pickup_datetime\"] = pd.to_datetime(raw[\"pickup_datetime\"])\n",
    "raw[\"dropoff_datetime\"] = pd.to_datetime(raw[\"dropoff_datetime\"])"
   ]
  },
  {
   "cell_type": "code",
   "execution_count": 14,
   "metadata": {
    "collapsed": false
   },
   "outputs": [
    {
     "name": "stdout",
     "output_type": "stream",
     "text": [
      "['pickup_datetime', 'pickup_latitude', 'pickup_longitude', 'trip_distance', 'dropoff_datetime', 'dropoff_latitude', 'dropoff_longitude', 'payment_amount']\n",
      "[dtype('<M8[ns]'), dtype('float64'), dtype('float64'), dtype('float64'), dtype('<M8[ns]'), dtype('float64'), dtype('float64'), dtype('float64')]\n"
     ]
    }
   ],
   "source": [
    "#make sure types are okay\n",
    "print(list(raw.columns.values))\n",
    "print([raw[i].dtype for i in list(raw.columns.values)])"
   ]
  },
  {
   "cell_type": "code",
   "execution_count": 15,
   "metadata": {
    "collapsed": false
   },
   "outputs": [],
   "source": [
    "#convert it to a numpy matrix\n",
    "#np_raw = raw.as_matrix()"
   ]
  },
  {
   "cell_type": "code",
   "execution_count": 16,
   "metadata": {
    "collapsed": false
   },
   "outputs": [
    {
     "name": "stdout",
     "output_type": "stream",
     "text": [
      "pickup_datetime      2016-01-01 00:00:00\n",
      "pickup_latitude                  40.7347\n",
      "pickup_longitude                -73.9904\n",
      "trip_distance                        1.1\n",
      "dropoff_datetime     2016-01-01 00:00:00\n",
      "dropoff_latitude                 40.7324\n",
      "dropoff_longitude               -73.9818\n",
      "payment_amount                       8.8\n",
      "Name: 0, dtype: object\n",
      "10906858\n"
     ]
    }
   ],
   "source": [
    "#print(np_raw.dtype)\n",
    "print(raw.ix[0])\n",
    "print(len(raw))"
   ]
  },
  {
   "cell_type": "code",
   "execution_count": 73,
   "metadata": {
    "collapsed": false
   },
   "outputs": [],
   "source": [
    "import State as State\n",
    "importlib.reload(State)        \n",
    "\n",
    "class MarkovChain:\n",
    "    # num centers are we picking for k-means\n",
    "    def __init__(self, raw, k):\n",
    "        self.state_set = set()\n",
    "        self.id_to_state = {}\n",
    "        self.adj_matrix = None\n",
    "        self.raw = raw\n",
    "        \n",
    "        self.initialize_centers(k)\n",
    "        epsilon = 1\n",
    "        self.build_states_kmeans(1001, epsilon)\n",
    "        \n",
    "        self.add_points_edges()\n",
    "        self.make_adjacency_matrix()\n",
    "    \n",
    "    def initialize_centers(self, k):\n",
    "        ind = [i for i in range(len(self.raw))]\n",
    "        rand.shuffle(ind)\n",
    "        centers = ind[:k]\n",
    "        # initialize centers\n",
    "        ident = 0\n",
    "        for c_ind in centers:\n",
    "            # out of convenience, we aren't messing with pickup lat lon\n",
    "            lat = self.raw.ix[c_ind][\"dropoff_latitude\"]\n",
    "            lon = self.raw.ix[c_ind][\"dropoff_longitude\"]\n",
    "            s = State.State((lat, lon), ident)\n",
    "            self.state_set.add(s)\n",
    "            self.id_to_state[ident] = s\n",
    "            ident += 1\n",
    "    \n",
    "    def build_states_kmeans(self, iterations, epsilon):\n",
    "        # run kmeans algorithm\n",
    "        min_diff = 1000000\n",
    "        while iterations > 0 and min_diff > epsilon:\n",
    "            for ind, row in self.raw.iterrows():\n",
    "                pos_start, pos_end = self.row_to_positions(row)\n",
    "                closest_to_start = self.find_closest_state(pos_start)\n",
    "                closest_to_end = self.find_closest_state(pos_end)\n",
    "                \n",
    "                closest_to_start.add_position(pos_start)\n",
    "                closest_to_end.add_position(pos_end)\n",
    "            max_diff = 0\n",
    "            for s in self.state_set:\n",
    "                max_diff = max(max_diff, s.update_center())\n",
    "            min_diff = min(min_diff, max_diff)\n",
    "            iterations -= 1\n",
    "        print(iterations) \n",
    "\n",
    "    def add_points_edges(self):\n",
    "        for s in self.state_set:\n",
    "            s.clear_stored_data()\n",
    "        for ind, row in self.raw.iterrows():\n",
    "            pos_start, pos_end = self.row_to_positions(row)\n",
    "            closest_to_start = self.find_closest_state(pos_start)\n",
    "            closest_to_end = self.find_closest_state(pos_end)\n",
    "            \n",
    "            fare = self.row_to_fare(row)\n",
    "            tdistance = self.row_to_distance(row)\n",
    "            \n",
    "            #Add points to respective states\n",
    "            closest_to_start.store_data((pos_start, fare, tdistance))\n",
    "            closest_to_end.store_data((pos_end))\n",
    "            \n",
    "            ##Add this edge to markov state\n",
    "            closest_to_start.add_destination(closest_to_end.id)\n",
    "    \n",
    "    \n",
    "    def make_adjacency_matrix(self):\n",
    "        self.adj_matrix = np.ndarray(shape=(len(self.state_set), len(self.state_set)), dtype=float, order='C')\n",
    "        for i in sorted(self.id_to_state.keys()):\n",
    "            for j in sorted(self.id_to_state.keys()):\n",
    "                self.adj_matrix[i][j] = self.transition_probability(i, j)\n",
    "    \n",
    "    def sum_of_square_error(self):\n",
    "        total = 0\n",
    "        for s in self.state_set:\n",
    "            total += s.sum_of_squared_errors\n",
    "        return total\n",
    "    \n",
    "    ##\n",
    "    # GETTERS\n",
    "    ##\n",
    "    def get_adjacency_matrix(self):\n",
    "        return self.adj_matrix\n",
    "    \n",
    "    ###\n",
    "    # HELPER METHODS\n",
    "    ###\n",
    "    def find_closest_state(self, pos):\n",
    "        def distance(state, pos):\n",
    "            clat, clon = state.center\n",
    "            return ((clat - pos[0])**2 + (clon - pos[1])**2)**0.5\n",
    "        closest = None\n",
    "        min_dist = None\n",
    "        for state in self.state_set:\n",
    "            d = distance(state, pos)\n",
    "            if closest == None or d < min_dist:\n",
    "                closest = state\n",
    "                min_dist = d\n",
    "        return closest\n",
    "    \n",
    "    def row_to_positions(self, row):\n",
    "        lats = row[\"pickup_latitude\"]\n",
    "        lons = row[\"pickup_longitude\"]\n",
    "        pos_start = (lats, lons)\n",
    "\n",
    "        late = row[\"dropoff_latitude\"]\n",
    "        lone = row[\"dropoff_longitude\"]\n",
    "        pos_end = (late, lone)\n",
    "        \n",
    "        return pos_start, pos_end\n",
    "    \n",
    "    def row_to_fare(self, row):\n",
    "        return row[\"payment_amount\"]\n",
    "    def row_to_distance(self, row):\n",
    "        return row[\"trip_distance\"]\n",
    "    \n",
    "    def transition_probability(self, i, j):\n",
    "        return self.id_to_state[i].probability_to(j)\n"
   ]
  },
  {
   "cell_type": "code",
   "execution_count": 74,
   "metadata": {
    "collapsed": true
   },
   "outputs": [],
   "source": [
    "def find_optimal_k(raw, k_list):\n",
    "    points_to_plot = []\n",
    "    for k in k_list:\n",
    "        m = MarkovChain(raw, k)\n",
    "        points_to_plot.append((k, m.sum_of_square_error))\n",
    "    return points_to_plot"
   ]
  },
  {
   "cell_type": "code",
   "execution_count": 75,
   "metadata": {
    "collapsed": false
   },
   "outputs": [
    {
     "ename": "TypeError",
     "evalue": "unorderable types: tuple() > int()",
     "output_type": "error",
     "traceback": [
      "\u001b[0;31m---------------------------------------------------------------------------\u001b[0m",
      "\u001b[0;31mTypeError\u001b[0m                                 Traceback (most recent call last)",
      "\u001b[0;32m<ipython-input-75-934364d78045>\u001b[0m in \u001b[0;36m<module>\u001b[0;34m()\u001b[0m\n\u001b[0;32m----> 1\u001b[0;31m \u001b[0mm\u001b[0m \u001b[0;34m=\u001b[0m \u001b[0mMarkovChain\u001b[0m\u001b[0;34m(\u001b[0m\u001b[0mraw\u001b[0m\u001b[0;34m[\u001b[0m\u001b[0;34m:\u001b[0m\u001b[0;36m1000\u001b[0m\u001b[0;34m]\u001b[0m\u001b[0;34m,\u001b[0m \u001b[0;36m10\u001b[0m\u001b[0;34m)\u001b[0m\u001b[0;34m\u001b[0m\u001b[0m\n\u001b[0m",
      "\u001b[0;32m<ipython-input-73-5f152978534c>\u001b[0m in \u001b[0;36m__init__\u001b[0;34m(self, raw, k)\u001b[0m\n\u001b[1;32m     12\u001b[0m         \u001b[0mself\u001b[0m\u001b[0;34m.\u001b[0m\u001b[0minitialize_centers\u001b[0m\u001b[0;34m(\u001b[0m\u001b[0mk\u001b[0m\u001b[0;34m)\u001b[0m\u001b[0;34m\u001b[0m\u001b[0m\n\u001b[1;32m     13\u001b[0m         \u001b[0mepsilon\u001b[0m \u001b[0;34m=\u001b[0m \u001b[0;36m1\u001b[0m\u001b[0;34m\u001b[0m\u001b[0m\n\u001b[0;32m---> 14\u001b[0;31m         \u001b[0mself\u001b[0m\u001b[0;34m.\u001b[0m\u001b[0mbuild_states_kmeans\u001b[0m\u001b[0;34m(\u001b[0m\u001b[0;36m1001\u001b[0m\u001b[0;34m,\u001b[0m \u001b[0mepsilon\u001b[0m\u001b[0;34m)\u001b[0m\u001b[0;34m\u001b[0m\u001b[0m\n\u001b[0m\u001b[1;32m     15\u001b[0m \u001b[0;34m\u001b[0m\u001b[0m\n\u001b[1;32m     16\u001b[0m         \u001b[0mself\u001b[0m\u001b[0;34m.\u001b[0m\u001b[0madd_points_edges\u001b[0m\u001b[0;34m(\u001b[0m\u001b[0;34m)\u001b[0m\u001b[0;34m\u001b[0m\u001b[0m\n",
      "\u001b[0;32m<ipython-input-73-5f152978534c>\u001b[0m in \u001b[0;36mbuild_states_kmeans\u001b[0;34m(self, iterations, epsilon)\u001b[0m\n\u001b[1;32m     45\u001b[0m             \u001b[0mmax_diff\u001b[0m \u001b[0;34m=\u001b[0m \u001b[0;36m0\u001b[0m\u001b[0;34m\u001b[0m\u001b[0m\n\u001b[1;32m     46\u001b[0m             \u001b[0;32mfor\u001b[0m \u001b[0ms\u001b[0m \u001b[0;32min\u001b[0m \u001b[0mself\u001b[0m\u001b[0;34m.\u001b[0m\u001b[0mstate_set\u001b[0m\u001b[0;34m:\u001b[0m\u001b[0;34m\u001b[0m\u001b[0m\n\u001b[0;32m---> 47\u001b[0;31m                 \u001b[0mmax_diff\u001b[0m \u001b[0;34m=\u001b[0m \u001b[0mmax\u001b[0m\u001b[0;34m(\u001b[0m\u001b[0mmax_diff\u001b[0m\u001b[0;34m,\u001b[0m \u001b[0ms\u001b[0m\u001b[0;34m.\u001b[0m\u001b[0mupdate_center\u001b[0m\u001b[0;34m(\u001b[0m\u001b[0;34m)\u001b[0m\u001b[0;34m)\u001b[0m\u001b[0;34m\u001b[0m\u001b[0m\n\u001b[0m\u001b[1;32m     48\u001b[0m             \u001b[0mmin_diff\u001b[0m \u001b[0;34m=\u001b[0m \u001b[0mmin\u001b[0m\u001b[0;34m(\u001b[0m\u001b[0mmin_diff\u001b[0m\u001b[0;34m,\u001b[0m \u001b[0mmax_diff\u001b[0m\u001b[0;34m)\u001b[0m\u001b[0;34m\u001b[0m\u001b[0m\n\u001b[1;32m     49\u001b[0m             \u001b[0miterations\u001b[0m \u001b[0;34m-=\u001b[0m \u001b[0;36m1\u001b[0m\u001b[0;34m\u001b[0m\u001b[0m\n",
      "\u001b[0;31mTypeError\u001b[0m: unorderable types: tuple() > int()"
     ]
    }
   ],
   "source": [
    "m = MarkovChain(raw[:1000], 10)"
   ]
  },
  {
   "cell_type": "code",
   "execution_count": 41,
   "metadata": {
    "collapsed": false
   },
   "outputs": [],
   "source": [
    "adjm = m.get_adjacency_matrix()"
   ]
  },
  {
   "cell_type": "code",
   "execution_count": 42,
   "metadata": {
    "collapsed": false
   },
   "outputs": [
    {
     "data": {
      "text/plain": [
       "array([ 1.,  1.,  1.,  1.,  1.,  1.,  1.,  1.,  1.,  1.])"
      ]
     },
     "execution_count": 42,
     "metadata": {},
     "output_type": "execute_result"
    }
   ],
   "source": [
    "np.sum(adjm, axis=1)"
   ]
  },
  {
   "cell_type": "code",
   "execution_count": 43,
   "metadata": {
    "collapsed": false
   },
   "outputs": [],
   "source": [
    "S, U = np.linalg.eig(adjm.T)"
   ]
  },
  {
   "cell_type": "code",
   "execution_count": 44,
   "metadata": {
    "collapsed": false
   },
   "outputs": [
    {
     "name": "stdout",
     "output_type": "stream",
     "text": [
      "[[ 0.19358393+0.j          0.09721960+0.j          0.10873574+0.j\n",
      "   0.23783651+0.j          0.51046406+0.j          0.25715077+0.j\n",
      "   0.36466965+0.j          0.16214579+0.j          0.59883215+0.j\n",
      "   0.20027161+0.j        ]\n",
      " [ 0.13056937+0.j          0.07500944+0.j          0.01773779+0.j\n",
      "  -0.83612310+0.j         -0.18989318+0.j          0.17222964+0.j\n",
      "   0.09093622+0.j          0.11229875+0.j          0.43727015+0.j\n",
      "  -0.01003506+0.j        ]\n",
      " [-0.07820002+0.j         -0.03715973+0.j         -0.09539010+0.j\n",
      "   0.55471087+0.j          0.36971653+0.j         -0.32384248+0.j\n",
      "   0.35620427+0.j         -0.08828439+0.j         -0.53276448+0.j\n",
      "  -0.12499047+0.j        ]\n",
      " [ 0.17303157+0.j         -0.03121150+0.j         -0.05109706+0.j\n",
      "  -0.06396154+0.j         -0.80404449+0.j          0.17619538+0.j\n",
      "   0.50978139+0.j          0.05021589+0.j         -0.08339871+0.j\n",
      "   0.12448908+0.j        ]\n",
      " [ 0.17197345+0.j          0.25910795+0.j         -0.12946616+0.j\n",
      "   0.12504652+0.j         -0.77671366+0.j         -0.02950573+0.j\n",
      "   0.10858952+0.j          0.27421951+0.j          0.29815929+0.j\n",
      "  -0.30141070+0.j        ]\n",
      " [-0.27750408+0.01481307j -0.45077392+0.10462352j  0.03086201-0.12210514j\n",
      "  -0.02638065-0.0250073j  -0.00169431+0.01725608j -0.19217132-0.23985595j\n",
      "   0.18027405-0.01454304j  0.34442880-0.13521859j  0.50455450+0.j\n",
      "  -0.11159508+0.40003735j]\n",
      " [-0.27750408-0.01481307j -0.45077392-0.10462352j  0.03086201+0.12210514j\n",
      "  -0.02638065+0.0250073j  -0.00169431-0.01725608j -0.19217132+0.23985595j\n",
      "   0.18027405+0.01454304j  0.34442880+0.13521859j  0.50455450-0.j\n",
      "  -0.11159508-0.40003735j]\n",
      " [ 0.50044668+0.j         -0.26031741-0.29435547j  0.11585832-0.06938029j\n",
      "  -0.08385687+0.02222303j  0.00588585+0.26241177j -0.23026854+0.11158827j\n",
      "  -0.16355682-0.02341719j  0.10544930-0.11791398j -0.36291177+0.2843434j\n",
      "   0.37327124-0.17549954j]\n",
      " [ 0.50044668-0.j         -0.26031741+0.29435547j  0.11585832+0.06938029j\n",
      "  -0.08385687-0.02222303j  0.00588585-0.26241177j -0.23026854-0.11158827j\n",
      "  -0.16355682+0.02341719j  0.10544930+0.11791398j -0.36291177-0.2843434j\n",
      "   0.37327124+0.17549954j]\n",
      " [-0.03487721+0.j          0.26031418+0.j          0.52498735+0.j\n",
      "  -0.14001216+0.j         -0.33259672+0.j         -0.68722945+0.j\n",
      "   0.04655434+0.j          0.12845577+0.j          0.17533673+0.j\n",
      "   0.05906716+0.j        ]]\n"
     ]
    }
   ],
   "source": [
    "print(U.T)"
   ]
  },
  {
   "cell_type": "code",
   "execution_count": 45,
   "metadata": {
    "collapsed": false
   },
   "outputs": [
    {
     "name": "stdout",
     "output_type": "stream",
     "text": [
      "[ 0.19358393+0.j  0.09721960+0.j  0.10873574+0.j  0.23783651+0.j\n",
      "  0.51046406+0.j  0.25715077+0.j  0.36466965+0.j  0.16214579+0.j\n",
      "  0.59883215+0.j  0.20027161+0.j]\n"
     ]
    }
   ],
   "source": [
    "# U is row major\n",
    "inv_dist = U.T[0]\n",
    "print(inv_dist)"
   ]
  },
  {
   "cell_type": "code",
   "execution_count": 46,
   "metadata": {
    "collapsed": false
   },
   "outputs": [
    {
     "name": "stderr",
     "output_type": "stream",
     "text": [
      "/Users/cheng/miniconda3/lib/python3.5/site-packages/ipykernel/__main__.py:1: ComplexWarning: Casting complex values to real discards the imaginary part\n",
      "  if __name__ == '__main__':\n"
     ]
    }
   ],
   "source": [
    "norm_inv_dist = inv_dist / float(sum(inv_dist))"
   ]
  },
  {
   "cell_type": "code",
   "execution_count": 47,
   "metadata": {
    "collapsed": false
   },
   "outputs": [],
   "source": [
    "inv2 = sorted(norm_inv_dist)"
   ]
  },
  {
   "cell_type": "code",
   "execution_count": 48,
   "metadata": {
    "collapsed": false
   },
   "outputs": [],
   "source": [
    "old_norm_inv_dist = sorted(norm_inv_dist)"
   ]
  },
  {
   "cell_type": "code",
   "execution_count": 49,
   "metadata": {
    "collapsed": false
   },
   "outputs": [
    {
     "data": {
      "text/plain": [
       "[(0.035599711401181802+0j),\n",
       " (0.039816672398490988+0j),\n",
       " (0.059374273692836953+0j),\n",
       " (0.070886241315251799+0j),\n",
       " (0.073335123072190422+0j),\n",
       " (0.087090577001469799+0j),\n",
       " (0.094163040739149148+0j),\n",
       " (0.13353412332344694+0j),\n",
       " (0.18692087726919729+0j),\n",
       " (0.21927935978678498+0j)]"
      ]
     },
     "execution_count": 49,
     "metadata": {},
     "output_type": "execute_result"
    }
   ],
   "source": [
    "old_norm_inv_dist"
   ]
  },
  {
   "cell_type": "code",
   "execution_count": null,
   "metadata": {
    "collapsed": true
   },
   "outputs": [],
   "source": []
  }
 ],
 "metadata": {
  "anaconda-cloud": {},
  "kernelspec": {
   "display_name": "Python [conda root]",
   "language": "python",
   "name": "conda-root-py"
  },
  "language_info": {
   "codemirror_mode": {
    "name": "ipython",
    "version": 3
   },
   "file_extension": ".py",
   "mimetype": "text/x-python",
   "name": "python",
   "nbconvert_exporter": "python",
   "pygments_lexer": "ipython3",
   "version": "3.5.2"
  }
 },
 "nbformat": 4,
 "nbformat_minor": 1
}
