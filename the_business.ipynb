{
 "cells": [
  {
   "cell_type": "code",
   "execution_count": 1,
   "metadata": {
    "collapsed": true
   },
   "outputs": [],
   "source": [
    "import pandas as pd\n",
    "import numpy as np\n",
    "import random as rand"
   ]
  },
  {
   "cell_type": "code",
   "execution_count": 2,
   "metadata": {
    "collapsed": false
   },
   "outputs": [],
   "source": [
    "raw = pd.read_csv(\"yellow-taxis/1january.csv\")"
   ]
  },
  {
   "cell_type": "code",
   "execution_count": 3,
   "metadata": {
    "collapsed": false
   },
   "outputs": [],
   "source": [
    "# delete unused columns\n",
    "del raw['trip_distance']\n",
    "del raw['passenger_count']\n",
    "del raw['fare_amount']\n",
    "del raw['tolls_amount']\n",
    "del raw['taxes_amount']\n",
    "del raw['tip_amount']\n",
    "del raw['payment_amount']\n",
    "del raw['payment_type']"
   ]
  },
  {
   "cell_type": "code",
   "execution_count": 4,
   "metadata": {
    "collapsed": false
   },
   "outputs": [],
   "source": [
    "# convert pickup_dtatetime to datetime\n",
    "raw[\"pickup_datetime\"] = pd.to_datetime(raw[\"pickup_datetime\"])\n",
    "raw[\"dropoff_datetime\"] = pd.to_datetime(raw[\"dropoff_datetime\"])"
   ]
  },
  {
   "cell_type": "code",
   "execution_count": 5,
   "metadata": {
    "collapsed": false
   },
   "outputs": [
    {
     "name": "stdout",
     "output_type": "stream",
     "text": [
      "['pickup_datetime', 'pickup_latitude', 'pickup_longitude', 'dropoff_datetime', 'dropoff_latitude', 'dropoff_longitude']\n",
      "[dtype('<M8[ns]'), dtype('float64'), dtype('float64'), dtype('<M8[ns]'), dtype('float64'), dtype('float64')]\n"
     ]
    }
   ],
   "source": [
    "#make sure types are okay\n",
    "print(list(raw.columns.values))\n",
    "print([raw[i].dtype for i in list(raw.columns.values)])"
   ]
  },
  {
   "cell_type": "code",
   "execution_count": 6,
   "metadata": {
    "collapsed": false
   },
   "outputs": [],
   "source": [
    "#convert it to a numpy matrix\n",
    "np_raw = raw.as_matrix()"
   ]
  },
  {
   "cell_type": "code",
   "execution_count": 7,
   "metadata": {
    "collapsed": false
   },
   "outputs": [
    {
     "name": "stdout",
     "output_type": "stream",
     "text": [
      "object\n",
      "pickup_datetime      2016-01-01 00:00:00\n",
      "pickup_latitude                  40.7347\n",
      "pickup_longitude                -73.9904\n",
      "dropoff_datetime     2016-01-01 00:00:00\n",
      "dropoff_latitude                 40.7324\n",
      "dropoff_longitude               -73.9818\n",
      "Name: 0, dtype: object\n",
      "10906858\n"
     ]
    }
   ],
   "source": [
    "print(np_raw.dtype)\n",
    "print(raw.ix[0])\n",
    "print(len(raw))"
   ]
  },
  {
   "cell_type": "code",
   "execution_count": 8,
   "metadata": {
    "collapsed": false
   },
   "outputs": [],
   "source": [
    "from State import State\n",
    "class MarkovChain:\n",
    "    # num centers are we picking for k-means\n",
    "    k = 10\n",
    "    def __init__(self, raw):\n",
    "        self.state_set = set()\n",
    "        self.id_to_state = {}\n",
    "        self.adj_matrix = None\n",
    "        self.raw = raw\n",
    "        \n",
    "        self.initialize_centers(self.k)\n",
    "        self.build_states_kmeans(10)\n",
    "        self.add_edges()\n",
    "        self.make_adjacency_matrix()\n",
    "        \n",
    "\n",
    "    def initialize_centers(self, k):\n",
    "        ind = [i for i in range(len(self.raw))]\n",
    "        rand.shuffle(ind)\n",
    "        centers = ind[:k]\n",
    "        # initialize centers\n",
    "        ident = 0\n",
    "        for c_ind in centers:\n",
    "            # out of convenience, we aren't messing with pickup lat lon\n",
    "            lat = self.raw.ix[c_ind][\"dropoff_latitude\"]\n",
    "            lon = self.raw.ix[c_ind][\"dropoff_longitude\"]\n",
    "            s = State((lat, lon), ident)\n",
    "            self.state_set.add(s)\n",
    "            self.id_to_state[ident] = s\n",
    "            ident += 1\n",
    "    \n",
    "    def build_states_kmeans(self, iterations):\n",
    "        # run kmeans algorithm\n",
    "        for it in range(iterations):\n",
    "            for ind, row in self.raw.iterrows():\n",
    "                pos_start, pos_end = self.row_to_positions(row)\n",
    "                closest_to_start = self.find_closest_state(pos_start)\n",
    "                closest_to_end = self.find_closest_state(pos_end)\n",
    "                \n",
    "                closest_to_start.add_position(pos_start)\n",
    "                closest_to_end.add_position(pos_end)\n",
    "            for s in self.state_set:\n",
    "                s.update_center()\n",
    "        \n",
    "    def add_edges(self):\n",
    "        for ind, row in self.raw.iterrows():\n",
    "            pos_start, pos_end = self.row_to_positions(row)\n",
    "            closest_to_start = self.find_closest_state(pos_start)\n",
    "            closest_to_end = self.find_closest_state(pos_end)\n",
    "\n",
    "            ##Add this edge to markov state\n",
    "            closest_to_start.add_destination(closest_to_end)\n",
    "    \n",
    "    \n",
    "    def make_adjacency_matrix(self):\n",
    "        self.adj_matrix = np.ndarray(shape=(len(self.state_set), len(self.state_set)), dtype=float, order='C')\n",
    "        for i in sorted(self.id_to_state.keys()):\n",
    "            for j in sorted(self.id_to_state.keys()):\n",
    "                self.ajd_matrix[i][j] = self.transition_probability(i, j)\n",
    "        \n",
    "    \n",
    "    ##\n",
    "    # GETTERS\n",
    "    ##\n",
    "    def get_adjacency_matrix(self):\n",
    "        return self.adj_matrix\n",
    "    \n",
    "    ###\n",
    "    # HELPER METHODS\n",
    "    ###\n",
    "    def find_closest_state(self, pos):\n",
    "        def distance(state, pos):\n",
    "            clat, clon = state.center\n",
    "            return ((clat - pos[0])**2 + (clon - pos[1])**2)**0.5\n",
    "        closest = None\n",
    "        min_dist = None\n",
    "        for state in self.state_set:\n",
    "            d = distance(state, pos)\n",
    "            if closest == None or d < min_dist:\n",
    "                closest = state\n",
    "                min_dist = d\n",
    "        return closest\n",
    "    \n",
    "    def row_to_positions(self, row):\n",
    "        lats = row[\"pickup_latitude\"]\n",
    "        lons = row[\"pickup_longitude\"]\n",
    "        pos_start = (lats, lons)\n",
    "\n",
    "        late = row[\"dropoff_latitude\"]\n",
    "        lone = row[\"dropoff_longitude\"]\n",
    "        pos_end = (late, lone)\n",
    "        \n",
    "        return pos_start, pos_end\n",
    "    \n",
    "    def transition_probability(self, i, j):\n",
    "        return self.id_to_state[i].probability_to(j)\n"
   ]
  },
  {
   "cell_type": "code",
   "execution_count": 9,
   "metadata": {
    "collapsed": false
   },
   "outputs": [
    {
     "ename": "KeyError",
     "evalue": "0",
     "output_type": "error",
     "traceback": [
      "\u001b[0;31m---------------------------------------------------------------------------\u001b[0m",
      "\u001b[0;31mKeyError\u001b[0m                                  Traceback (most recent call last)",
      "\u001b[0;32m<ipython-input-9-79625646d744>\u001b[0m in \u001b[0;36m<module>\u001b[0;34m()\u001b[0m\n\u001b[0;32m----> 1\u001b[0;31m \u001b[0mm\u001b[0m \u001b[0;34m=\u001b[0m \u001b[0mMarkovChain\u001b[0m\u001b[0;34m(\u001b[0m\u001b[0mraw\u001b[0m\u001b[0;34m[\u001b[0m\u001b[0;34m:\u001b[0m\u001b[0;36m50\u001b[0m\u001b[0;34m]\u001b[0m\u001b[0;34m)\u001b[0m\u001b[0;34m\u001b[0m\u001b[0m\n\u001b[0m",
      "\u001b[0;32m<ipython-input-8-ed403a87b252>\u001b[0m in \u001b[0;36m__init__\u001b[0;34m(self, raw)\u001b[0m\n\u001b[1;32m     12\u001b[0m         \u001b[0mself\u001b[0m\u001b[0;34m.\u001b[0m\u001b[0mbuild_states_kmeans\u001b[0m\u001b[0;34m(\u001b[0m\u001b[0;36m10\u001b[0m\u001b[0;34m)\u001b[0m\u001b[0;34m\u001b[0m\u001b[0m\n\u001b[1;32m     13\u001b[0m         \u001b[0mself\u001b[0m\u001b[0;34m.\u001b[0m\u001b[0madd_edges\u001b[0m\u001b[0;34m(\u001b[0m\u001b[0;34m)\u001b[0m\u001b[0;34m\u001b[0m\u001b[0m\n\u001b[0;32m---> 14\u001b[0;31m         \u001b[0mself\u001b[0m\u001b[0;34m.\u001b[0m\u001b[0mmake_adjacency_matrix\u001b[0m\u001b[0;34m(\u001b[0m\u001b[0;34m)\u001b[0m\u001b[0;34m\u001b[0m\u001b[0m\n\u001b[0m\u001b[1;32m     15\u001b[0m \u001b[0;34m\u001b[0m\u001b[0m\n\u001b[1;32m     16\u001b[0m \u001b[0;34m\u001b[0m\u001b[0m\n",
      "\u001b[0;32m<ipython-input-8-ed403a87b252>\u001b[0m in \u001b[0;36mmake_adjacency_matrix\u001b[0;34m(self)\u001b[0m\n\u001b[1;32m     57\u001b[0m         \u001b[0;32mfor\u001b[0m \u001b[0mi\u001b[0m \u001b[0;32min\u001b[0m \u001b[0msorted\u001b[0m\u001b[0;34m(\u001b[0m\u001b[0mself\u001b[0m\u001b[0;34m.\u001b[0m\u001b[0mid_to_state\u001b[0m\u001b[0;34m.\u001b[0m\u001b[0mkeys\u001b[0m\u001b[0;34m(\u001b[0m\u001b[0;34m)\u001b[0m\u001b[0;34m)\u001b[0m\u001b[0;34m:\u001b[0m\u001b[0;34m\u001b[0m\u001b[0m\n\u001b[1;32m     58\u001b[0m             \u001b[0;32mfor\u001b[0m \u001b[0mj\u001b[0m \u001b[0;32min\u001b[0m \u001b[0msorted\u001b[0m\u001b[0;34m(\u001b[0m\u001b[0mself\u001b[0m\u001b[0;34m.\u001b[0m\u001b[0mid_to_state\u001b[0m\u001b[0;34m.\u001b[0m\u001b[0mkeys\u001b[0m\u001b[0;34m(\u001b[0m\u001b[0;34m)\u001b[0m\u001b[0;34m)\u001b[0m\u001b[0;34m:\u001b[0m\u001b[0;34m\u001b[0m\u001b[0m\n\u001b[0;32m---> 59\u001b[0;31m                 \u001b[0mself\u001b[0m\u001b[0;34m.\u001b[0m\u001b[0majd_matrix\u001b[0m\u001b[0;34m[\u001b[0m\u001b[0mi\u001b[0m\u001b[0;34m]\u001b[0m\u001b[0;34m[\u001b[0m\u001b[0mj\u001b[0m\u001b[0;34m]\u001b[0m \u001b[0;34m=\u001b[0m \u001b[0mself\u001b[0m\u001b[0;34m.\u001b[0m\u001b[0mtransition_probability\u001b[0m\u001b[0;34m(\u001b[0m\u001b[0mi\u001b[0m\u001b[0;34m,\u001b[0m \u001b[0mj\u001b[0m\u001b[0;34m)\u001b[0m\u001b[0;34m\u001b[0m\u001b[0m\n\u001b[0m\u001b[1;32m     60\u001b[0m \u001b[0;34m\u001b[0m\u001b[0m\n\u001b[1;32m     61\u001b[0m \u001b[0;34m\u001b[0m\u001b[0m\n",
      "\u001b[0;32m<ipython-input-8-ed403a87b252>\u001b[0m in \u001b[0;36mtransition_probability\u001b[0;34m(self, i, j)\u001b[0m\n\u001b[1;32m     94\u001b[0m \u001b[0;34m\u001b[0m\u001b[0m\n\u001b[1;32m     95\u001b[0m     \u001b[0;32mdef\u001b[0m \u001b[0mtransition_probability\u001b[0m\u001b[0;34m(\u001b[0m\u001b[0mself\u001b[0m\u001b[0;34m,\u001b[0m \u001b[0mi\u001b[0m\u001b[0;34m,\u001b[0m \u001b[0mj\u001b[0m\u001b[0;34m)\u001b[0m\u001b[0;34m:\u001b[0m\u001b[0;34m\u001b[0m\u001b[0m\n\u001b[0;32m---> 96\u001b[0;31m         \u001b[0;32mreturn\u001b[0m \u001b[0mself\u001b[0m\u001b[0;34m.\u001b[0m\u001b[0mid_to_state\u001b[0m\u001b[0;34m[\u001b[0m\u001b[0mi\u001b[0m\u001b[0;34m]\u001b[0m\u001b[0;34m.\u001b[0m\u001b[0mprobability_to\u001b[0m\u001b[0;34m(\u001b[0m\u001b[0mj\u001b[0m\u001b[0;34m)\u001b[0m\u001b[0;34m\u001b[0m\u001b[0m\n\u001b[0m",
      "\u001b[0;32m/Users/cheng/Documents/Berkeley_Stuff/Class/ee126/Project/State.py\u001b[0m in \u001b[0;36mprobability_to\u001b[0;34m(self, destination_id)\u001b[0m\n\u001b[1;32m     26\u001b[0m     \u001b[0;32mdef\u001b[0m \u001b[0mprobability_to\u001b[0m\u001b[0;34m(\u001b[0m\u001b[0mself\u001b[0m\u001b[0;34m,\u001b[0m \u001b[0mdestination_id\u001b[0m\u001b[0;34m)\u001b[0m\u001b[0;34m:\u001b[0m\u001b[0;34m\u001b[0m\u001b[0m\n\u001b[1;32m     27\u001b[0m         \u001b[0mtotal\u001b[0m \u001b[0;34m=\u001b[0m \u001b[0msum\u001b[0m\u001b[0;34m(\u001b[0m\u001b[0mself\u001b[0m\u001b[0;34m.\u001b[0m\u001b[0mtransition_counts\u001b[0m\u001b[0;34m.\u001b[0m\u001b[0mvalues\u001b[0m\u001b[0;34m(\u001b[0m\u001b[0;34m)\u001b[0m\u001b[0;34m)\u001b[0m\u001b[0;34m\u001b[0m\u001b[0m\n\u001b[0;32m---> 28\u001b[0;31m         \u001b[0mdestination_count\u001b[0m \u001b[0;34m=\u001b[0m \u001b[0mself\u001b[0m\u001b[0;34m.\u001b[0m\u001b[0mtransition_counts\u001b[0m\u001b[0;34m[\u001b[0m\u001b[0mdestination_id\u001b[0m\u001b[0;34m]\u001b[0m\u001b[0;34m\u001b[0m\u001b[0m\n\u001b[0m\u001b[1;32m     29\u001b[0m         \u001b[0;32mreturn\u001b[0m \u001b[0mdestination_count\u001b[0m \u001b[0;34m/\u001b[0m \u001b[0mtotal\u001b[0m\u001b[0;34m\u001b[0m\u001b[0m\n\u001b[1;32m     30\u001b[0m \u001b[0;34m\u001b[0m\u001b[0m\n",
      "\u001b[0;31mKeyError\u001b[0m: 0"
     ]
    }
   ],
   "source": [
    "m = MarkovChain(raw[:50])"
   ]
  },
  {
   "cell_type": "code",
   "execution_count": null,
   "metadata": {
    "collapsed": false
   },
   "outputs": [],
   "source": [
    "m.transition_counts"
   ]
  },
  {
   "cell_type": "code",
   "execution_count": null,
   "metadata": {
    "collapsed": true
   },
   "outputs": [],
   "source": []
  }
 ],
 "metadata": {
  "anaconda-cloud": {},
  "kernelspec": {
   "display_name": "Python [conda root]",
   "language": "python",
   "name": "conda-root-py"
  },
  "language_info": {
   "codemirror_mode": {
    "name": "ipython",
    "version": 3
   },
   "file_extension": ".py",
   "mimetype": "text/x-python",
   "name": "python",
   "nbconvert_exporter": "python",
   "pygments_lexer": "ipython3",
   "version": "3.5.2"
  }
 },
 "nbformat": 4,
 "nbformat_minor": 1
}
