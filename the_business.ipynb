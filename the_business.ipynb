{
 "cells": [
  {
   "cell_type": "code",
   "execution_count": 1,
   "metadata": {
    "collapsed": true
   },
   "outputs": [],
   "source": [
    "import pandas as pd\n",
    "import numpy as np\n",
    "import random as rand"
   ]
  },
  {
   "cell_type": "code",
   "execution_count": 2,
   "metadata": {
    "collapsed": false
   },
   "outputs": [],
   "source": [
    "raw = pd.read_csv(\"yellow-taxis/1january.csv\")"
   ]
  },
  {
   "cell_type": "code",
   "execution_count": 3,
   "metadata": {
    "collapsed": false
   },
   "outputs": [],
   "source": [
    "# delete unused columns\n",
    "del raw['trip_distance']\n",
    "del raw['passenger_count']\n",
    "del raw['fare_amount']\n",
    "del raw['tolls_amount']\n",
    "del raw['taxes_amount']\n",
    "del raw['tip_amount']\n",
    "del raw['payment_amount']\n",
    "del raw['payment_type']"
   ]
  },
  {
   "cell_type": "code",
   "execution_count": 4,
   "metadata": {
    "collapsed": false
   },
   "outputs": [],
   "source": [
    "# convert pickup_dtatetime to datetime\n",
    "raw[\"pickup_datetime\"] = pd.to_datetime(raw[\"pickup_datetime\"])\n",
    "raw[\"dropoff_datetime\"] = pd.to_datetime(raw[\"dropoff_datetime\"])"
   ]
  },
  {
   "cell_type": "code",
   "execution_count": 5,
   "metadata": {
    "collapsed": false
   },
   "outputs": [
    {
     "name": "stdout",
     "output_type": "stream",
     "text": [
      "['pickup_datetime', 'pickup_latitude', 'pickup_longitude', 'dropoff_datetime', 'dropoff_latitude', 'dropoff_longitude']\n",
      "[dtype('<M8[ns]'), dtype('float64'), dtype('float64'), dtype('<M8[ns]'), dtype('float64'), dtype('float64')]\n"
     ]
    }
   ],
   "source": [
    "#make sure types are okay\n",
    "print(list(raw.columns.values))\n",
    "print([raw[i].dtype for i in list(raw.columns.values)])"
   ]
  },
  {
   "cell_type": "code",
   "execution_count": 6,
   "metadata": {
    "collapsed": false
   },
   "outputs": [],
   "source": [
    "#convert it to a numpy matrix\n",
    "#np_raw = raw.as_matrix()"
   ]
  },
  {
   "cell_type": "code",
   "execution_count": 7,
   "metadata": {
    "collapsed": false
   },
   "outputs": [
    {
     "name": "stdout",
     "output_type": "stream",
     "text": [
      "object\n",
      "pickup_datetime      2016-01-01 00:00:00\n",
      "pickup_latitude                  40.7347\n",
      "pickup_longitude                -73.9904\n",
      "dropoff_datetime     2016-01-01 00:00:00\n",
      "dropoff_latitude                 40.7324\n",
      "dropoff_longitude               -73.9818\n",
      "Name: 0, dtype: object\n",
      "10906858\n"
     ]
    }
   ],
   "source": [
    "print(np_raw.dtype)\n",
    "print(raw.ix[0])\n",
    "print(len(raw))"
   ]
  },
  {
   "cell_type": "code",
   "execution_count": 16,
   "metadata": {
    "collapsed": false
   },
   "outputs": [],
   "source": [
    "from State import State\n",
    "class MarkovChain:\n",
    "    # num centers are we picking for k-means\n",
    "    k = 10\n",
    "    def __init__(self, raw):\n",
    "        self.state_set = set()\n",
    "        self.id_to_state = {}\n",
    "        self.adj_matrix = None\n",
    "        self.raw = raw\n",
    "        \n",
    "        self.initialize_centers(self.k)\n",
    "        self.build_states_kmeans(1000)\n",
    "        self.add_edges()\n",
    "        self.make_adjacency_matrix()\n",
    "        \n",
    "\n",
    "    def initialize_centers(self, k):\n",
    "        ind = [i for i in range(len(self.raw))]\n",
    "        rand.shuffle(ind)\n",
    "        centers = ind[:k]\n",
    "        # initialize centers\n",
    "        ident = 0\n",
    "        for c_ind in centers:\n",
    "            # out of convenience, we aren't messing with pickup lat lon\n",
    "            lat = self.raw.ix[c_ind][\"dropoff_latitude\"]\n",
    "            lon = self.raw.ix[c_ind][\"dropoff_longitude\"]\n",
    "            s = State((lat, lon), ident)\n",
    "            self.state_set.add(s)\n",
    "            self.id_to_state[ident] = s\n",
    "            ident += 1\n",
    "    \n",
    "    def build_states_kmeans(self, iterations):\n",
    "        # run kmeans algorithm\n",
    "        for it in range(iterations):\n",
    "            for ind, row in self.raw.iterrows():\n",
    "                pos_start, pos_end = self.row_to_positions(row)\n",
    "                closest_to_start = self.find_closest_state(pos_start)\n",
    "                closest_to_end = self.find_closest_state(pos_end)\n",
    "                \n",
    "                closest_to_start.add_position(pos_start)\n",
    "                closest_to_end.add_position(pos_end)\n",
    "            for s in self.state_set:\n",
    "                s.update_center()\n",
    "        \n",
    "    def add_edges(self):\n",
    "        for ind, row in self.raw.iterrows():\n",
    "            pos_start, pos_end = self.row_to_positions(row)\n",
    "            closest_to_start = self.find_closest_state(pos_start)\n",
    "            closest_to_end = self.find_closest_state(pos_end)\n",
    "\n",
    "            ##Add this edge to markov state\n",
    "            closest_to_start.add_destination(closest_to_end.id)\n",
    "    \n",
    "    \n",
    "    def make_adjacency_matrix(self):\n",
    "        self.adj_matrix = np.ndarray(shape=(len(self.state_set), len(self.state_set)), dtype=float, order='C')\n",
    "        for i in sorted(self.id_to_state.keys()):\n",
    "            for j in sorted(self.id_to_state.keys()):\n",
    "                self.adj_matrix[i][j] = self.transition_probability(i, j)\n",
    "        \n",
    "    \n",
    "    ##\n",
    "    # GETTERS\n",
    "    ##\n",
    "    def get_adjacency_matrix(self):\n",
    "        return self.adj_matrix\n",
    "    \n",
    "    ###\n",
    "    # HELPER METHODS\n",
    "    ###\n",
    "    def find_closest_state(self, pos):\n",
    "        def distance(state, pos):\n",
    "            clat, clon = state.center\n",
    "            return ((clat - pos[0])**2 + (clon - pos[1])**2)**0.5\n",
    "        closest = None\n",
    "        min_dist = None\n",
    "        for state in self.state_set:\n",
    "            d = distance(state, pos)\n",
    "            if closest == None or d < min_dist:\n",
    "                closest = state\n",
    "                min_dist = d\n",
    "        return closest\n",
    "    \n",
    "    def row_to_positions(self, row):\n",
    "        lats = row[\"pickup_latitude\"]\n",
    "        lons = row[\"pickup_longitude\"]\n",
    "        pos_start = (lats, lons)\n",
    "\n",
    "        late = row[\"dropoff_latitude\"]\n",
    "        lone = row[\"dropoff_longitude\"]\n",
    "        pos_end = (late, lone)\n",
    "        \n",
    "        return pos_start, pos_end\n",
    "    \n",
    "    def transition_probability(self, i, j):\n",
    "        return self.id_to_state[i].probability_to(j)\n"
   ]
  },
  {
   "cell_type": "code",
   "execution_count": 57,
   "metadata": {
    "collapsed": false
   },
   "outputs": [],
   "source": [
    "m = MarkovChain(raw[:1000])"
   ]
  },
  {
   "cell_type": "code",
   "execution_count": 58,
   "metadata": {
    "collapsed": false
   },
   "outputs": [],
   "source": [
    "adjm = m.get_adjacency_matrix()"
   ]
  },
  {
   "cell_type": "code",
   "execution_count": 59,
   "metadata": {
    "collapsed": false
   },
   "outputs": [
    {
     "data": {
      "text/plain": [
       "array([ 1.,  1.,  1.,  1.,  1.,  1.,  1.,  1.,  1.,  1.])"
      ]
     },
     "execution_count": 59,
     "metadata": {},
     "output_type": "execute_result"
    }
   ],
   "source": [
    "np.sum(adjm, axis=1)"
   ]
  },
  {
   "cell_type": "code",
   "execution_count": 60,
   "metadata": {
    "collapsed": false
   },
   "outputs": [],
   "source": [
    "S, U = np.linalg.eig(adjm.T)"
   ]
  },
  {
   "cell_type": "code",
   "execution_count": 61,
   "metadata": {
    "collapsed": false
   },
   "outputs": [
    {
     "name": "stdout",
     "output_type": "stream",
     "text": [
      "[[  0.00000000e+00 +0.00000000e+00j   0.00000000e+00 +0.00000000e+00j\n",
      "    0.00000000e+00 +0.00000000e+00j   0.00000000e+00 +0.00000000e+00j\n",
      "    0.00000000e+00 +0.00000000e+00j   0.00000000e+00 +0.00000000e+00j\n",
      "    0.00000000e+00 +0.00000000e+00j   1.00000000e+00 +0.00000000e+00j\n",
      "    0.00000000e+00 +0.00000000e+00j   0.00000000e+00 +0.00000000e+00j]\n",
      " [  1.70478868e-01 +0.00000000e+00j   1.92122145e-01 +0.00000000e+00j\n",
      "    3.79423182e-03 +0.00000000e+00j   9.09437689e-02 +0.00000000e+00j\n",
      "    9.05368445e-02 +0.00000000e+00j   2.06262230e-01 +0.00000000e+00j\n",
      "    4.04409463e-03 +0.00000000e+00j  -9.26984487e-01 +0.00000000e+00j\n",
      "    5.76043140e-02 +0.00000000e+00j   1.11197990e-01 +0.00000000e+00j]\n",
      " [  2.21152673e-01 +0.00000000e+00j   2.55189027e-01 +0.00000000e+00j\n",
      "    6.34671060e-03 +0.00000000e+00j   1.46289905e-01 +0.00000000e+00j\n",
      "    8.16839458e-04 +0.00000000e+00j   1.66742708e-01 +0.00000000e+00j\n",
      "   -9.06927356e-01 +0.00000000e+00j  -4.38056245e-02 +0.00000000e+00j\n",
      "    9.12575804e-02 +0.00000000e+00j   6.29375377e-02 +0.00000000e+00j]\n",
      " [ -3.56533094e-01 +3.95563269e-02j  -3.59059905e-01 -5.39751737e-02j\n",
      "   -1.71689551e-02 +7.97012050e-04j   7.07767917e-01 +0.00000000e+00j\n",
      "   -4.39122191e-02 -9.03808222e-02j   5.10295171e-02 -1.30835582e-02j\n",
      "   -6.23643531e-04 +1.13133236e-04j  -4.66394951e-02 +1.96799206e-02j\n",
      "   -2.86721008e-01 +1.26325962e-01j   3.51860886e-01 -2.90328009e-02j]\n",
      " [ -3.56533094e-01 -3.95563269e-02j  -3.59059905e-01 +5.39751737e-02j\n",
      "   -1.71689551e-02 -7.97012050e-04j   7.07767917e-01 -0.00000000e+00j\n",
      "   -4.39122191e-02 +9.03808222e-02j   5.10295171e-02 +1.30835582e-02j\n",
      "   -6.23643531e-04 -1.13133236e-04j  -4.66394951e-02 -1.96799206e-02j\n",
      "   -2.86721008e-01 -1.26325962e-01j   3.51860886e-01 +2.90328009e-02j]\n",
      " [  2.12296654e-02 +0.00000000e+00j   2.29823576e-02 +0.00000000e+00j\n",
      "    1.64363385e-03 +0.00000000e+00j   9.55685917e-02 +0.00000000e+00j\n",
      "    3.95769843e-01 +0.00000000e+00j  -5.40210273e-01 +0.00000000e+00j\n",
      "    4.51234512e-03 +0.00000000e+00j  -5.59245000e-02 +0.00000000e+00j\n",
      "    5.45285116e-01 +0.00000000e+00j  -4.90856780e-01 +0.00000000e+00j]\n",
      " [ -1.29863168e-01 +0.00000000e+00j  -7.44498423e-01 +0.00000000e+00j\n",
      "   -6.87749725e-02 +0.00000000e+00j  -5.65689963e-02 +0.00000000e+00j\n",
      "    5.05917169e-01 +0.00000000e+00j   3.67473232e-01 +0.00000000e+00j\n",
      "   -2.34700263e-03 +0.00000000e+00j  -7.42996709e-02 +0.00000000e+00j\n",
      "    5.77994123e-02 +0.00000000e+00j   1.45162419e-01 +0.00000000e+00j]\n",
      " [ -3.16386631e-01 -2.86473682e-01j   1.06443070e-01 +2.29284383e-01j\n",
      "    1.78770646e-02 +8.10826254e-03j   8.33599032e-02 -2.87105276e-02j\n",
      "   -4.41883046e-02 -5.84339397e-02j   6.74479473e-01 +0.00000000e+00j\n",
      "   -3.07206972e-03 -2.39326039e-05j  -3.03019532e-03 +5.69804625e-03j\n",
      "    6.88281088e-03 +2.05707264e-02j  -5.22365120e-01 +1.09980664e-01j]\n",
      " [ -3.16386631e-01 +2.86473682e-01j   1.06443070e-01 -2.29284383e-01j\n",
      "    1.78770646e-02 -8.10826254e-03j   8.33599032e-02 +2.87105276e-02j\n",
      "   -4.41883046e-02 +5.84339397e-02j   6.74479473e-01 -0.00000000e+00j\n",
      "   -3.07206972e-03 +2.39326039e-05j  -3.03019532e-03 -5.69804625e-03j\n",
      "    6.88281088e-03 -2.05707264e-02j  -5.22365120e-01 -1.09980664e-01j]\n",
      " [  2.01460894e-01 +0.00000000e+00j   3.76870499e-01 +0.00000000e+00j\n",
      "   -4.63089871e-01 +0.00000000e+00j   3.41979061e-01 +0.00000000e+00j\n",
      "   -1.94195417e-01 +0.00000000e+00j  -5.38045896e-01 +0.00000000e+00j\n",
      "    2.83508122e-03 +0.00000000e+00j   7.07623376e-02 +0.00000000e+00j\n",
      "    3.59046671e-01 +0.00000000e+00j  -1.57623360e-01 +0.00000000e+00j]]\n"
     ]
    }
   ],
   "source": [
    "print(U.T)"
   ]
  },
  {
   "cell_type": "code",
   "execution_count": 56,
   "metadata": {
    "collapsed": false
   },
   "outputs": [
    {
     "name": "stdout",
     "output_type": "stream",
     "text": [
      "[ 1.+0.j  0.+0.j  0.+0.j  0.+0.j  0.+0.j  0.+0.j  0.+0.j  0.+0.j  0.+0.j\n",
      "  0.+0.j]\n"
     ]
    }
   ],
   "source": [
    "# U is row major\n",
    "inv_dist = U.T[0]\n",
    "print(inv_dist)"
   ]
  },
  {
   "cell_type": "code",
   "execution_count": 46,
   "metadata": {
    "collapsed": false
   },
   "outputs": [
    {
     "name": "stderr",
     "output_type": "stream",
     "text": [
      "/Users/cheng/miniconda3/lib/python3.5/site-packages/ipykernel/__main__.py:1: ComplexWarning: Casting complex values to real discards the imaginary part\n",
      "  if __name__ == '__main__':\n"
     ]
    }
   ],
   "source": [
    "norm_inv_dist = inv_dist / float(sum(inv_dist))"
   ]
  },
  {
   "cell_type": "code",
   "execution_count": 52,
   "metadata": {
    "collapsed": false
   },
   "outputs": [],
   "source": [
    "inv2 = sorted(norm_inv_dist)"
   ]
  },
  {
   "cell_type": "code",
   "execution_count": 27,
   "metadata": {
    "collapsed": false
   },
   "outputs": [],
   "source": [
    "old_norm_inv_dist = sorted(norm_inv_dist)"
   ]
  },
  {
   "cell_type": "code",
   "execution_count": 49,
   "metadata": {
    "collapsed": false
   },
   "outputs": [
    {
     "data": {
      "text/plain": [
       "[0.003753188971443896,\n",
       " 0.0037661874147916323,\n",
       " 0.036396375154513827,\n",
       " 0.060658906040522306,\n",
       " 0.09399390751987341,\n",
       " 0.096678904976299648,\n",
       " 0.12510792201095949,\n",
       " 0.17551245797773041,\n",
       " 0.1928496884237593,\n",
       " 0.21128246151010613]"
      ]
     },
     "execution_count": 49,
     "metadata": {},
     "output_type": "execute_result"
    }
   ],
   "source": [
    "old_norm_inv_dist"
   ]
  },
  {
   "cell_type": "code",
   "execution_count": null,
   "metadata": {
    "collapsed": true
   },
   "outputs": [],
   "source": []
  }
 ],
 "metadata": {
  "anaconda-cloud": {},
  "kernelspec": {
   "display_name": "Python [conda root]",
   "language": "python",
   "name": "conda-root-py"
  },
  "language_info": {
   "codemirror_mode": {
    "name": "ipython",
    "version": 3
   },
   "file_extension": ".py",
   "mimetype": "text/x-python",
   "name": "python",
   "nbconvert_exporter": "python",
   "pygments_lexer": "ipython3",
   "version": "3.5.2"
  }
 },
 "nbformat": 4,
 "nbformat_minor": 1
}
