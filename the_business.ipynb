{
 "cells": [
  {
   "cell_type": "code",
   "execution_count": 1,
   "metadata": {
    "collapsed": false
   },
   "outputs": [],
   "source": [
    "import pandas as pd\n",
    "import numpy as np\n",
    "import random as rand\n",
    "import importlib \n",
    "import matplotlib.pyplot as plt\n",
    "%matplotlib inline"
   ]
  },
  {
   "cell_type": "code",
   "execution_count": 2,
   "metadata": {
    "collapsed": false
   },
   "outputs": [],
   "source": [
    "raw = pd.read_csv(\"yellow-taxis/1january.csv\")"
   ]
  },
  {
   "cell_type": "code",
   "execution_count": 3,
   "metadata": {
    "collapsed": false
   },
   "outputs": [],
   "source": [
    "# delete unused columns\n",
    "# del raw['trip_distance']\n",
    "del raw['passenger_count']\n",
    "del raw['fare_amount']\n",
    "del raw['tolls_amount']\n",
    "del raw['taxes_amount']\n",
    "del raw['tip_amount']\n",
    "# del raw['payment_amount']\n",
    "del raw['payment_type']"
   ]
  },
  {
   "cell_type": "code",
   "execution_count": 4,
   "metadata": {
    "collapsed": false
   },
   "outputs": [
    {
     "ename": "NameError",
     "evalue": "name 'shuffle' is not defined",
     "output_type": "error",
     "traceback": [
      "\u001b[0;31m---------------------------------------------------------------------------\u001b[0m",
      "\u001b[0;31mNameError\u001b[0m                                 Traceback (most recent call last)",
      "\u001b[0;32m<ipython-input-4-5be1eef82229>\u001b[0m in \u001b[0;36m<module>\u001b[0;34m()\u001b[0m\n\u001b[1;32m      6\u001b[0m             \u001b[0;34m&\u001b[0m \u001b[0;34m(\u001b[0m\u001b[0mraw\u001b[0m\u001b[0;34m[\u001b[0m\u001b[0;34m\"pickup_latitude\"\u001b[0m\u001b[0;34m]\u001b[0m \u001b[0;34m>\u001b[0m \u001b[0;36m30\u001b[0m\u001b[0;34m)\u001b[0m \u001b[0;34m&\u001b[0m \u001b[0;34m(\u001b[0m\u001b[0mraw\u001b[0m\u001b[0;34m[\u001b[0m\u001b[0;34m\"pickup_latitude\"\u001b[0m\u001b[0;34m]\u001b[0m \u001b[0;34m<\u001b[0m \u001b[0;36m50\u001b[0m\u001b[0;34m)\u001b[0m\u001b[0;34m\u001b[0m\u001b[0m\n\u001b[1;32m      7\u001b[0m             & (raw[\"dropoff_latitude\"] > 30) & (raw[\"dropoff_latitude\"] < 50)]\n\u001b[0;32m----> 8\u001b[0;31m \u001b[0mshuffle\u001b[0m\u001b[0;34m(\u001b[0m\u001b[0mraw\u001b[0m\u001b[0;34m)\u001b[0m\u001b[0;34m\u001b[0m\u001b[0m\n\u001b[0m\u001b[1;32m      9\u001b[0m \u001b[0mraw\u001b[0m\u001b[0;34m\u001b[0m\u001b[0m\n",
      "\u001b[0;31mNameError\u001b[0m: name 'shuffle' is not defined"
     ]
    }
   ],
   "source": [
    "# convert pickup_dtatetime to datetime\n",
    "raw[\"pickup_datetime\"] = pd.to_datetime(raw[\"pickup_datetime\"])\n",
    "raw[\"dropoff_datetime\"] = pd.to_datetime(raw[\"dropoff_datetime\"])\n",
    "raw = raw[(raw[\"pickup_longitude\"] > -80) & (raw[\"pickup_longitude\"] < -60)\n",
    "            & (raw[\"dropoff_longitude\"] > -80) & (raw[\"dropoff_longitude\"] < -60)\n",
    "            & (raw[\"pickup_latitude\"] > 30) & (raw[\"pickup_latitude\"] < 50)\n",
    "            & (raw[\"dropoff_latitude\"] > 30) & (raw[\"dropoff_latitude\"] < 50)]\n",
    "shuffle(raw)\n",
    "raw"
   ]
  },
  {
   "cell_type": "code",
   "execution_count": null,
   "metadata": {
    "collapsed": false
   },
   "outputs": [],
   "source": [
    "# convert pickup_dtatetime to datetime\n",
    "raw[\"pickup_datetime\"] = pd.to_datetime(raw[\"pickup_datetime\"])\n",
    "raw[\"dropoff_datetime\"] = pd.to_datetime(raw[\"dropoff_datetime\"])"
   ]
  },
  {
   "cell_type": "code",
   "execution_count": null,
   "metadata": {
    "collapsed": false
   },
   "outputs": [],
   "source": [
    "#make sure types are okay\n",
    "print(list(raw.columns.values))\n",
    "print([raw[i].dtype for i in list(raw.columns.values)])"
   ]
  },
  {
   "cell_type": "code",
   "execution_count": 6,
   "metadata": {
    "collapsed": false
   },
   "outputs": [],
   "source": [
    "#convert it to a numpy matrix\n",
    "#np_raw = raw.as_matrix()"
   ]
  },
  {
   "cell_type": "code",
   "execution_count": 7,
   "metadata": {
    "collapsed": false
   },
   "outputs": [
    {
     "name": "stdout",
     "output_type": "stream",
     "text": [
      "pickup_datetime      2016-01-01 00:00:00\n",
      "pickup_latitude                  40.7347\n",
      "pickup_longitude                -73.9904\n",
      "trip_distance                        1.1\n",
      "dropoff_datetime     2016-01-01 00:00:00\n",
      "dropoff_latitude                 40.7324\n",
      "dropoff_longitude               -73.9818\n",
      "payment_amount                       8.8\n",
      "Name: 0, dtype: object\n",
      "10906858\n"
     ]
    }
   ],
   "source": [
    "#print(np_raw.dtype)\n",
    "print(raw.ix[0])\n",
    "print(len(raw))"
   ]
  },
  {
   "cell_type": "code",
   "execution_count": 63,
   "metadata": {
    "collapsed": false
   },
   "outputs": [],
   "source": [
    "import State as State\n",
    "importlib.reload(State)        \n",
    "\n",
    "class MarkovChain:\n",
    "    # num centers are we picking for k-means\n",
    "    def __init__(self, raw, k):\n",
    "        self.state_set = set()\n",
    "        self.id_to_state = {}\n",
    "        self.adj_matrix = None\n",
    "        self.raw = raw\n",
    "        \n",
    "        self.initialize_centers(k)\n",
    "        epsilon = 1e-6\n",
    "        self.build_states_kmeans(1001, epsilon)\n",
    "        \n",
    "        self.add_points_edges()\n",
    "        self.make_adjacency_matrix()\n",
    "    \n",
    "    def initialize_centers(self, k):\n",
    "        ind = [i for i in range(len(self.raw))]\n",
    "        rand.shuffle(ind)\n",
    "        centers = ind[:k]\n",
    "        # initialize centers\n",
    "        ident = 0\n",
    "        for c_ind in centers:\n",
    "            # out of convenience, we aren't messing with pickup lat lon\n",
    "            lat = self.raw.ix[c_ind][\"dropoff_latitude\"]\n",
    "            lon = self.raw.ix[c_ind][\"dropoff_longitude\"]\n",
    "            s = State.State((lat, lon), ident)\n",
    "            self.state_set.add(s)\n",
    "            self.id_to_state[ident] = s\n",
    "            ident += 1\n",
    "    \n",
    "    def build_states_kmeans(self, iterations, epsilon):\n",
    "        # run kmeans algorithm\n",
    "        min_diff = 1e6\n",
    "        while iterations > 0 and min_diff > epsilon:\n",
    "            for ind, row in self.raw.iterrows():\n",
    "                pos_start, pos_end = self.row_to_positions(row)\n",
    "                closest_to_start = self.find_closest_state(pos_start)\n",
    "                closest_to_end = self.find_closest_state(pos_end)\n",
    "                \n",
    "                closest_to_start.add_position(pos_start)\n",
    "                closest_to_end.add_position(pos_end)\n",
    "            max_diff = 0\n",
    "            for s in self.state_set:\n",
    "                max_diff = max(max_diff, s.update_center())\n",
    "            min_diff = min(min_diff, max_diff)\n",
    "            if iterations % 10 == 0:\n",
    "                print(iterations)\n",
    "            iterations -= 1 \n",
    "\n",
    "    def add_points_edges(self):\n",
    "        for s in self.state_set:\n",
    "            s.clear_stored_data()\n",
    "        for ind, row in self.raw.iterrows():\n",
    "            pos_start, pos_end = self.row_to_positions(row)\n",
    "            closest_to_start = self.find_closest_state(pos_start)\n",
    "            closest_to_end = self.find_closest_state(pos_end)\n",
    "            \n",
    "            fare = self.row_to_fare(row)\n",
    "            tdistance = self.row_to_distance(row)\n",
    "            \n",
    "            #Add points to respective states\n",
    "            closest_to_start.store_data(pos_start)\n",
    "            closest_to_end.store_data(pos_end)\n",
    "            \n",
    "            ##Add this edge to markov state\n",
    "            closest_to_start.add_destination(closest_to_end.id, fare, tdistance)\n",
    "    \n",
    "    \n",
    "    def make_adjacency_matrix(self):\n",
    "        self.adj_matrix = np.ndarray(shape=(len(self.state_set), len(self.state_set)), dtype=float, order='C')\n",
    "        for i in sorted(self.id_to_state.keys()):\n",
    "            for j in sorted(self.id_to_state.keys()):\n",
    "                self.adj_matrix[i][j] = self.transition_probability(i, j)\n",
    "    \n",
    "    def sum_of_square_error(self):\n",
    "        total = 0\n",
    "        for s in self.state_set:\n",
    "            total += s.sum_of_squared_errors\n",
    "        return total\n",
    "    \n",
    "    \n",
    "#     def random_walk_given_time_cap(self, start_id, duration_cap):\n",
    "#         while \n",
    "    \n",
    "    def random_walk(self, start_id, walk_length):\n",
    "        total_duration = 0\n",
    "        total_fare = 0\n",
    "        states_visited = []\n",
    "        next_id = start_id\n",
    "        for i in range(walk_length):\n",
    "            states_visited.append(next_id)\n",
    "            s = self.get_state(next_id)\n",
    "            next_id, fare, duration = s.next_state()\n",
    "            total_fare += fare\n",
    "            total_duration += duration\n",
    "        return states_visited, total_fare, total_duration\n",
    "            \n",
    "    def traveling_salesman(self, start_id):\n",
    "        total_duration = 0\n",
    "        total_fare = 0\n",
    "        states_visited = []\n",
    "        next_id = start_id\n",
    "        need_to_visit = set(self.id_to_state.keys()[:])\n",
    "        need_to_visit.remove(start_id)\n",
    "        while(len(need_to_visit)):\n",
    "            states_visited.append(next_id)\n",
    "            s = self.get_state(next_id)\n",
    "            next_id, fare, duration = s.next_state()\n",
    "            total_fare += fare\n",
    "            total_duration += duration\n",
    "            need_to_visit.remove(next_id)\n",
    "        return states_visited, total_fare, total_duration\n",
    "    \n",
    "    ##\n",
    "    # GETTERS\n",
    "    ##\n",
    "    \n",
    "    def get_state(self, iden):\n",
    "        return self.id_to_state(iden)\n",
    "    \n",
    "    def get_adjacency_matrix(self):\n",
    "        return self.adj_matrix\n",
    "    \n",
    "    ###\n",
    "    # HELPER METHODS\n",
    "    ###\n",
    "    def find_closest_state(self, pos):\n",
    "        def distance(state, pos):\n",
    "            clat, clon = state.center\n",
    "            return ((clat - pos[0])**2 + (clon - pos[1])**2)**0.5\n",
    "        closest = None\n",
    "        min_dist = None\n",
    "        for state in self.state_set:\n",
    "            d = distance(state, pos)\n",
    "            if closest == None or d < min_dist:\n",
    "                closest = state\n",
    "                min_dist = d\n",
    "        return closest\n",
    "    \n",
    "    def row_to_positions(self, row):\n",
    "        lats = row[\"pickup_latitude\"]\n",
    "        lons = row[\"pickup_longitude\"]\n",
    "        pos_start = (lats, lons)\n",
    "\n",
    "        late = row[\"dropoff_latitude\"]\n",
    "        lone = row[\"dropoff_longitude\"]\n",
    "        pos_end = (late, lone)\n",
    "        \n",
    "        return pos_start, pos_end\n",
    "    \n",
    "    def row_to_fare(self, row):\n",
    "        return row[\"payment_amount\"]\n",
    "    def row_to_distance(self, row):\n",
    "        return row[\"trip_distance\"]\n",
    "    \n",
    "    def transition_probability(self, i, j):\n",
    "        return self.id_to_state[i].probability_to(j)\n"
   ]
  },
  {
   "cell_type": "code",
   "execution_count": 45,
   "metadata": {
    "collapsed": true
   },
   "outputs": [],
   "source": [
    "def find_optimal_k(raw, k_list):\n",
    "    y = []\n",
    "    x = []\n",
    "    k_dict = {}\n",
    "    for t in trials:\n",
    "        for k in k_list:\n",
    "            if k not in k_dict:\n",
    "                k_dict[k] = []\n",
    "            try:\n",
    "                m = MarkovChain(raw[:1000], k)\n",
    "                x.append(k)\n",
    "                y.append(m.sum_of_square_error())\n",
    "            except ZeroDivisionError:\n",
    "                print(\"hello\")\n",
    "    return x, y"
   ]
  },
  {
   "cell_type": "code",
   "execution_count": 46,
   "metadata": {
    "collapsed": false
   },
   "outputs": [
    {
     "ename": "NameError",
     "evalue": "name 'trials' is not defined",
     "output_type": "error",
     "traceback": [
      "\u001b[0;31m---------------------------------------------------------------------------\u001b[0m",
      "\u001b[0;31mNameError\u001b[0m                                 Traceback (most recent call last)",
      "\u001b[0;32m<ipython-input-46-b576d5c6f4db>\u001b[0m in \u001b[0;36m<module>\u001b[0;34m()\u001b[0m\n\u001b[0;32m----> 1\u001b[0;31m \u001b[0mx\u001b[0m\u001b[0;34m,\u001b[0m \u001b[0my\u001b[0m \u001b[0;34m=\u001b[0m \u001b[0mfind_optimal_k\u001b[0m\u001b[0;34m(\u001b[0m\u001b[0mraw\u001b[0m\u001b[0;34m,\u001b[0m \u001b[0mk_list\u001b[0m\u001b[0;34m=\u001b[0m\u001b[0;34m[\u001b[0m\u001b[0mi\u001b[0m \u001b[0;32mfor\u001b[0m \u001b[0mi\u001b[0m \u001b[0;32min\u001b[0m \u001b[0mrange\u001b[0m\u001b[0;34m(\u001b[0m\u001b[0;36m5\u001b[0m\u001b[0;34m,\u001b[0m \u001b[0;36m50\u001b[0m\u001b[0;34m)\u001b[0m\u001b[0;34m]\u001b[0m\u001b[0;34m)\u001b[0m\u001b[0;34m\u001b[0m\u001b[0m\n\u001b[0m",
      "\u001b[0;32m<ipython-input-45-b12adce73cfe>\u001b[0m in \u001b[0;36mfind_optimal_k\u001b[0;34m(raw, k_list)\u001b[0m\n\u001b[1;32m      3\u001b[0m     \u001b[0mx\u001b[0m \u001b[0;34m=\u001b[0m \u001b[0;34m[\u001b[0m\u001b[0;34m]\u001b[0m\u001b[0;34m\u001b[0m\u001b[0m\n\u001b[1;32m      4\u001b[0m     \u001b[0mk_dict\u001b[0m \u001b[0;34m=\u001b[0m \u001b[0;34m{\u001b[0m\u001b[0;34m}\u001b[0m\u001b[0;34m\u001b[0m\u001b[0m\n\u001b[0;32m----> 5\u001b[0;31m     \u001b[0;32mfor\u001b[0m \u001b[0mt\u001b[0m \u001b[0;32min\u001b[0m \u001b[0mtrials\u001b[0m\u001b[0;34m:\u001b[0m\u001b[0;34m\u001b[0m\u001b[0m\n\u001b[0m\u001b[1;32m      6\u001b[0m         \u001b[0;32mfor\u001b[0m \u001b[0mk\u001b[0m \u001b[0;32min\u001b[0m \u001b[0mk_list\u001b[0m\u001b[0;34m:\u001b[0m\u001b[0;34m\u001b[0m\u001b[0m\n\u001b[1;32m      7\u001b[0m             \u001b[0;32mif\u001b[0m \u001b[0mk\u001b[0m \u001b[0;32mnot\u001b[0m \u001b[0;32min\u001b[0m \u001b[0mk_dict\u001b[0m\u001b[0;34m:\u001b[0m\u001b[0;34m\u001b[0m\u001b[0m\n",
      "\u001b[0;31mNameError\u001b[0m: name 'trials' is not defined"
     ]
    }
   ],
   "source": [
    "x, y = find_optimal_k(raw, k_list=[i for i in range(5, 50)])"
   ]
  },
  {
   "cell_type": "code",
   "execution_count": 47,
   "metadata": {
    "collapsed": false
   },
   "outputs": [
    {
     "ename": "NameError",
     "evalue": "name 'x' is not defined",
     "output_type": "error",
     "traceback": [
      "\u001b[0;31m---------------------------------------------------------------------------\u001b[0m",
      "\u001b[0;31mNameError\u001b[0m                                 Traceback (most recent call last)",
      "\u001b[0;32m<ipython-input-47-0ed05b94d9ab>\u001b[0m in \u001b[0;36m<module>\u001b[0;34m()\u001b[0m\n\u001b[0;32m----> 1\u001b[0;31m \u001b[0mplt\u001b[0m\u001b[0;34m.\u001b[0m\u001b[0mplot\u001b[0m\u001b[0;34m(\u001b[0m\u001b[0mx\u001b[0m\u001b[0;34m,\u001b[0m \u001b[0my\u001b[0m\u001b[0;34m)\u001b[0m\u001b[0;34m\u001b[0m\u001b[0m\n\u001b[0m",
      "\u001b[0;31mNameError\u001b[0m: name 'x' is not defined"
     ]
    }
   ],
   "source": [
    "plt.plot(x, y)"
   ]
  },
  {
   "cell_type": "code",
   "execution_count": 64,
   "metadata": {
    "collapsed": false
   },
   "outputs": [
    {
     "name": "stdout",
     "output_type": "stream",
     "text": [
      "1000\n",
      "990\n"
     ]
    }
   ],
   "source": [
    "m = MarkovChain(raw[:1000], 10)"
   ]
  },
  {
   "cell_type": "code",
   "execution_count": 65,
   "metadata": {
    "collapsed": false
   },
   "outputs": [],
   "source": [
    "adjm = m.get_adjacency_matrix()"
   ]
  },
  {
   "cell_type": "code",
   "execution_count": 66,
   "metadata": {
    "collapsed": false
   },
   "outputs": [
    {
     "data": {
      "text/plain": [
       "array([ 1.,  1.,  1.,  1.,  1.,  1.,  1.,  1.,  1.,  1.])"
      ]
     },
     "execution_count": 66,
     "metadata": {},
     "output_type": "execute_result"
    }
   ],
   "source": [
    "np.sum(adjm, axis=1)"
   ]
  },
  {
   "cell_type": "code",
   "execution_count": 67,
   "metadata": {
    "collapsed": false
   },
   "outputs": [],
   "source": [
    "S, U = np.linalg.eig(adjm.T)"
   ]
  },
  {
   "cell_type": "code",
   "execution_count": 68,
   "metadata": {
    "collapsed": false
   },
   "outputs": [
    {
     "name": "stdout",
     "output_type": "stream",
     "text": [
      "[[ -1.22474838e-02+0.j          -5.29523566e-01+0.j          -3.67304611e-01+0.j\n",
      "   -4.15027273e-01+0.j          -1.90925611e-01+0.j          -8.27654471e-03+0.j\n",
      "   -2.96526437e-01+0.j          -1.58744233e-01+0.j          -4.06206743e-01+0.j\n",
      "   -3.12476896e-01+0.j        ]\n",
      " [ -9.25998211e-01+0.j           1.09865046e-01+0.j           1.34589898e-01+0.j\n",
      "    2.70453124e-01+0.j           8.36409110e-02+0.j           4.21987384e-03+0.j\n",
      "    1.25914861e-01+0.j           8.73900809e-02+0.j           9.13680795e-02+0.j\n",
      "    1.85563365e-02+0.j        ]\n",
      " [  1.82153640e-03+0.j          -8.98383793e-02+0.j          -3.20158705e-02+0.j\n",
      "    5.79522391e-01+0.j           1.76797301e-01+0.j          -5.86109614e-03+0.j\n",
      "   -2.13654739e-01+0.j          -7.06169506e-01+0.j           2.81745646e-01+0.j\n",
      "    7.65271675e-03+0.j        ]\n",
      " [ -4.30056775e-04+0.00235193j   9.38982408e-03-0.15346278j\n",
      "   -3.34467726e-01-0.01226587j   6.01230927e-01+0.j\n",
      "   -3.35162144e-01+0.05408494j  -1.30479250e-02+0.00182967j\n",
      "   -1.08311426e-01+0.03358869j   1.84588325e-01+0.33245766j\n",
      "    2.96850692e-01-0.22423068j  -3.00640490e-01-0.03435356j]\n",
      " [ -4.30056775e-04-0.00235193j   9.38982408e-03+0.15346278j\n",
      "   -3.34467726e-01+0.01226587j   6.01230927e-01-0.j\n",
      "   -3.35162144e-01-0.05408494j  -1.30479250e-02-0.00182967j\n",
      "   -1.08311426e-01-0.03358869j   1.84588325e-01-0.33245766j\n",
      "    2.96850692e-01+0.22423068j  -3.00640490e-01+0.03435356j]\n",
      " [ -8.57655247e-04+0.00090737j   9.20069398e-02-0.11704073j\n",
      "   -4.20008722e-01-0.10802111j   1.72832813e-01+0.16371367j\n",
      "   -3.63930415e-01-0.16772833j  -5.75140026e-02+0.03468915j\n",
      "   -3.42146857e-01+0.21636758j   1.26816616e-01+0.02445416j\n",
      "    2.08081733e-01-0.04734177j   5.84719550e-01+0.j        ]\n",
      " [ -8.57655247e-04-0.00090737j   9.20069398e-02+0.11704073j\n",
      "   -4.20008722e-01+0.10802111j   1.72832813e-01-0.16371367j\n",
      "   -3.63930415e-01+0.16772833j  -5.75140026e-02-0.03468915j\n",
      "   -3.42146857e-01-0.21636758j   1.26816616e-01-0.02445416j\n",
      "    2.08081733e-01+0.04734177j   5.84719550e-01-0.j        ]\n",
      " [ -1.64767206e-03+0.j           2.85403990e-01+0.j          -8.35775215e-01+0.j\n",
      "   -2.34192478e-02+0.j          -1.22992613e-02+0.j           3.31095116e-02+0.j\n",
      "    4.60204307e-01+0.j           3.85800315e-02+0.j          -1.32485457e-02+0.j\n",
      "    6.90921019e-02+0.j        ]\n",
      " [  3.94272382e-03+0.j          -6.43300032e-01+0.j          -1.81783550e-01+0.j\n",
      "   -1.25290487e-01+0.j           5.04532913e-02+0.j           5.94735388e-03+0.j\n",
      "    1.44377679e-01+0.j           4.98654775e-02+0.j           7.14931930e-01+0.j\n",
      "   -1.91443868e-02+0.j        ]\n",
      " [  1.26785507e-03+0.j          -1.86275530e-01+0.j           3.11390224e-02+0.j\n",
      "    3.51781672e-01+0.j          -2.25840746e-03+0.j          -3.98136185e-01+0.j\n",
      "    6.79724685e-01+0.j           1.48958942e-01+0.j          -3.42962319e-01+0.j\n",
      "   -2.83239735e-01+0.j        ]]\n"
     ]
    }
   ],
   "source": [
    "print(U.T)"
   ]
  },
  {
   "cell_type": "code",
   "execution_count": 69,
   "metadata": {
    "collapsed": false
   },
   "outputs": [
    {
     "name": "stdout",
     "output_type": "stream",
     "text": [
      "[-0.01224748+0.j -0.52952357+0.j -0.36730461+0.j -0.41502727+0.j\n",
      " -0.19092561+0.j -0.00827654+0.j -0.29652644+0.j -0.15874423+0.j\n",
      " -0.40620674+0.j -0.31247690+0.j]\n"
     ]
    }
   ],
   "source": [
    "# U is row major\n",
    "inv_dist = U.T[0]\n",
    "print(inv_dist)"
   ]
  },
  {
   "cell_type": "code",
   "execution_count": 70,
   "metadata": {
    "collapsed": false
   },
   "outputs": [
    {
     "name": "stderr",
     "output_type": "stream",
     "text": [
      "/Users/cheng/miniconda3/lib/python3.5/site-packages/ipykernel/__main__.py:1: ComplexWarning: Casting complex values to real discards the imaginary part\n",
      "  if __name__ == '__main__':\n"
     ]
    }
   ],
   "source": [
    "norm_inv_dist = inv_dist / float(sum(inv_dist))"
   ]
  },
  {
   "cell_type": "code",
   "execution_count": 71,
   "metadata": {
    "collapsed": false
   },
   "outputs": [],
   "source": [
    "inv2 = sorted(norm_inv_dist)"
   ]
  },
  {
   "cell_type": "code",
   "execution_count": 72,
   "metadata": {
    "collapsed": false
   },
   "outputs": [],
   "source": [
    "old_norm_inv_dist = sorted(norm_inv_dist)"
   ]
  },
  {
   "cell_type": "code",
   "execution_count": 73,
   "metadata": {
    "collapsed": false
   },
   "outputs": [
    {
     "data": {
      "text/plain": [
       "[(0.0030685015748821271-0j),\n",
       " (0.0045407141202921638-0j),\n",
       " (0.058853899313321544-0j),\n",
       " (0.070785038614818788-0j),\n",
       " (0.10993619559566692-0j),\n",
       " (0.11584977568799031-0j),\n",
       " (0.13617696956784739-0j),\n",
       " (0.15059980637930526-0j),\n",
       " (0.15386998865090754-0j),\n",
       " (0.19631911049496778-0j)]"
      ]
     },
     "execution_count": 73,
     "metadata": {},
     "output_type": "execute_result"
    }
   ],
   "source": [
    "old_norm_inv_dist"
   ]
  },
  {
   "cell_type": "code",
   "execution_count": null,
   "metadata": {
    "collapsed": true
   },
   "outputs": [],
   "source": []
  }
 ],
 "metadata": {
  "anaconda-cloud": {},
  "kernelspec": {
   "display_name": "Python [default]",
   "language": "python",
   "name": "python3"
  },
  "language_info": {
   "codemirror_mode": {
    "name": "ipython",
    "version": 3
   },
   "file_extension": ".py",
   "mimetype": "text/x-python",
   "name": "python",
   "nbconvert_exporter": "python",
   "pygments_lexer": "ipython3",
   "version": "3.5.2"
  }
 },
 "nbformat": 4,
 "nbformat_minor": 1
}
